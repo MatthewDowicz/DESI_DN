{
 "cells": [
  {
   "cell_type": "code",
   "execution_count": 1,
   "id": "28b58720-f880-4180-9043-bee27d31fe48",
   "metadata": {},
   "outputs": [],
   "source": [
    "import numpy as np\n",
    "import matplotlib.pyplot as plt\n",
    "import pathlib \n",
    "import os\n",
    "\n",
    "import torch\n",
    "from torch import nn\n",
    "from torch.utils.data import DataLoader\n",
    "\n",
    "import PT_files.save_load as sl\n",
    "device = \"cuda\" if torch.cuda.is_available() else \"cpu\""
   ]
  },
  {
   "cell_type": "markdown",
   "id": "d5f99fb0-52fd-4422-822c-6ce536d5de89",
   "metadata": {},
   "source": [
    "This deletes memory"
   ]
  },
  {
   "cell_type": "code",
   "execution_count": 3,
   "id": "582be8dc-63ce-440f-bc44-613f5a3d3605",
   "metadata": {},
   "outputs": [
    {
     "data": {
      "text/plain": [
       "tensor([[0.4003, 0.7197, 0.8684,  ..., 0.4368, 0.1948, 0.5128],\n",
       "        [0.8893, 0.6638, 0.9352,  ..., 0.5447, 0.8273, 0.4137],\n",
       "        [0.6035, 0.5197, 0.7379,  ..., 0.6830, 0.4652, 0.9922],\n",
       "        ...,\n",
       "        [0.2895, 0.4563, 0.3406,  ..., 0.5639, 0.9820, 0.0517],\n",
       "        [0.1503, 0.4187, 0.8671,  ..., 0.7359, 0.8407, 0.5851],\n",
       "        [0.4290, 0.9182, 0.7522,  ..., 0.7611, 0.6889, 0.2416]])"
      ]
     },
     "execution_count": 3,
     "metadata": {},
     "output_type": "execute_result"
    }
   ],
   "source": [
    "tensor3 = torch.rand((60000,60000)).to(device)\n",
    "tensor3.detach().cpu()\n",
    "del tensor3\n",
    "torch.cuda.empty_cache()"
   ]
  },
  {
   "cell_type": "markdown",
   "id": "1d49643e-6d11-41b8-8b0e-b378a06a2606",
   "metadata": {},
   "source": [
    "This order **DOES NOT WORK**"
   ]
  },
  {
   "cell_type": "code",
   "execution_count": 1,
   "id": "83c472a1-3996-4e93-a4c5-d78ef0984937",
   "metadata": {},
   "outputs": [
    {
     "ename": "NameError",
     "evalue": "name 'torch' is not defined",
     "output_type": "error",
     "traceback": [
      "\u001b[0;31m---------------------------------------------------------------------------\u001b[0m",
      "\u001b[0;31mNameError\u001b[0m                                 Traceback (most recent call last)",
      "\u001b[0;32m/tmp/ipykernel_51091/957850753.py\u001b[0m in \u001b[0;36m<module>\u001b[0;34m\u001b[0m\n\u001b[0;32m----> 1\u001b[0;31m \u001b[0mtensor3\u001b[0m \u001b[0;34m=\u001b[0m \u001b[0mtorch\u001b[0m\u001b[0;34m.\u001b[0m\u001b[0mrand\u001b[0m\u001b[0;34m(\u001b[0m\u001b[0;34m(\u001b[0m\u001b[0;36m60000\u001b[0m\u001b[0;34m,\u001b[0m\u001b[0;36m60000\u001b[0m\u001b[0;34m)\u001b[0m\u001b[0;34m)\u001b[0m\u001b[0;34m.\u001b[0m\u001b[0mto\u001b[0m\u001b[0;34m(\u001b[0m\u001b[0mdevice\u001b[0m\u001b[0;34m)\u001b[0m\u001b[0;34m\u001b[0m\u001b[0;34m\u001b[0m\u001b[0m\n\u001b[0m",
      "\u001b[0;31mNameError\u001b[0m: name 'torch' is not defined"
     ]
    }
   ],
   "source": [
    "tensor3 = torch.rand((60000,60000)).to(device)\n",
    "tensor3.detach().cpu()\n",
    "torch.cuda.empty_cache()\n",
    "del tensor3"
   ]
  },
  {
   "cell_type": "markdown",
   "id": "47cecd97-a5c7-4acf-80a7-848c0b5e133f",
   "metadata": {},
   "source": [
    "This **DOES NOT WORK**"
   ]
  },
  {
   "cell_type": "code",
   "execution_count": 9,
   "id": "abbc90a1-7833-4b8b-ab03-ff59e24ec872",
   "metadata": {},
   "outputs": [],
   "source": [
    "tensor3 = torch.randn((60000, 60000)).to(device)\n",
    "torch.cuda.empty_cache()\n",
    "del tensor3\n",
    "tensor3.detach().cpu()"
   ]
  },
  {
   "cell_type": "markdown",
   "id": "14c919e4-22be-4d71-9eee-8d5e7238ff6d",
   "metadata": {},
   "source": [
    "**DOES NOT WORK**"
   ]
  },
  {
   "cell_type": "code",
   "execution_count": 14,
   "id": "8c392301-6bd1-4f55-96d1-ab9321eeff81",
   "metadata": {},
   "outputs": [],
   "source": [
    "tensor3 = torch.randn((60000, 60000)).to(device)\n",
    "torch.cuda.empty_cache()\n",
    "tensor3.detach().cpu()\n",
    "del tensor3"
   ]
  },
  {
   "cell_type": "markdown",
   "id": "669e4006-cb35-482b-9252-b4739bcc9c25",
   "metadata": {},
   "source": [
    "** DOES NOT WORK**"
   ]
  },
  {
   "cell_type": "code",
   "execution_count": 15,
   "id": "a1e2f710-a423-49c9-9a25-35bff0797f34",
   "metadata": {},
   "outputs": [
    {
     "ename": "NameError",
     "evalue": "name 'tensor3' is not defined",
     "output_type": "error",
     "traceback": [
      "\u001b[0;31m---------------------------------------------------------------------------\u001b[0m",
      "\u001b[0;31mNameError\u001b[0m                                 Traceback (most recent call last)",
      "\u001b[0;32m/tmp/ipykernel_52616/3784166928.py\u001b[0m in \u001b[0;36m<module>\u001b[0;34m\u001b[0m\n\u001b[1;32m      2\u001b[0m \u001b[0;32mdel\u001b[0m \u001b[0mtensor3\u001b[0m\u001b[0;34m\u001b[0m\u001b[0;34m\u001b[0m\u001b[0m\n\u001b[1;32m      3\u001b[0m \u001b[0mtorch\u001b[0m\u001b[0;34m.\u001b[0m\u001b[0mcuda\u001b[0m\u001b[0;34m.\u001b[0m\u001b[0mempty_cache\u001b[0m\u001b[0;34m(\u001b[0m\u001b[0;34m)\u001b[0m\u001b[0;34m\u001b[0m\u001b[0;34m\u001b[0m\u001b[0m\n\u001b[0;32m----> 4\u001b[0;31m \u001b[0mtensor3\u001b[0m\u001b[0;34m.\u001b[0m\u001b[0mdetach\u001b[0m\u001b[0;34m(\u001b[0m\u001b[0;34m)\u001b[0m\u001b[0;34m.\u001b[0m\u001b[0mcpu\u001b[0m\u001b[0;34m(\u001b[0m\u001b[0;34m)\u001b[0m\u001b[0;34m\u001b[0m\u001b[0;34m\u001b[0m\u001b[0m\n\u001b[0m",
      "\u001b[0;31mNameError\u001b[0m: name 'tensor3' is not defined"
     ]
    }
   ],
   "source": [
    "tensor3 = torch.randn((60000, 60000)).to(device)\n",
    "del tensor3\n",
    "torch.cuda.empty_cache()\n",
    "tensor3.detach().cpu()\n"
   ]
  },
  {
   "cell_type": "markdown",
   "id": "4585b312-b65a-4826-b33c-e155227498e5",
   "metadata": {},
   "source": [
    "**DOES NOT WORK**"
   ]
  },
  {
   "cell_type": "code",
   "execution_count": 16,
   "id": "2fff7908-850d-4402-8b52-5998f986739e",
   "metadata": {},
   "outputs": [
    {
     "ename": "NameError",
     "evalue": "name 'tensor3' is not defined",
     "output_type": "error",
     "traceback": [
      "\u001b[0;31m---------------------------------------------------------------------------\u001b[0m",
      "\u001b[0;31mNameError\u001b[0m                                 Traceback (most recent call last)",
      "\u001b[0;32m/tmp/ipykernel_52616/1407282377.py\u001b[0m in \u001b[0;36m<module>\u001b[0;34m\u001b[0m\n\u001b[1;32m      1\u001b[0m \u001b[0mtensor3\u001b[0m \u001b[0;34m=\u001b[0m \u001b[0mtorch\u001b[0m\u001b[0;34m.\u001b[0m\u001b[0mrandn\u001b[0m\u001b[0;34m(\u001b[0m\u001b[0;34m(\u001b[0m\u001b[0;36m60000\u001b[0m\u001b[0;34m,\u001b[0m \u001b[0;36m60000\u001b[0m\u001b[0;34m)\u001b[0m\u001b[0;34m)\u001b[0m\u001b[0;34m.\u001b[0m\u001b[0mto\u001b[0m\u001b[0;34m(\u001b[0m\u001b[0mdevice\u001b[0m\u001b[0;34m)\u001b[0m\u001b[0;34m\u001b[0m\u001b[0;34m\u001b[0m\u001b[0m\n\u001b[1;32m      2\u001b[0m \u001b[0;32mdel\u001b[0m \u001b[0mtensor3\u001b[0m\u001b[0;34m\u001b[0m\u001b[0;34m\u001b[0m\u001b[0m\n\u001b[0;32m----> 3\u001b[0;31m \u001b[0mtensor3\u001b[0m\u001b[0;34m.\u001b[0m\u001b[0mdetach\u001b[0m\u001b[0;34m(\u001b[0m\u001b[0;34m)\u001b[0m\u001b[0;34m.\u001b[0m\u001b[0mcpu\u001b[0m\u001b[0;34m(\u001b[0m\u001b[0;34m)\u001b[0m\u001b[0;34m\u001b[0m\u001b[0;34m\u001b[0m\u001b[0m\n\u001b[0m\u001b[1;32m      4\u001b[0m \u001b[0mtorch\u001b[0m\u001b[0;34m.\u001b[0m\u001b[0mcuda\u001b[0m\u001b[0;34m.\u001b[0m\u001b[0mempty_cache\u001b[0m\u001b[0;34m(\u001b[0m\u001b[0;34m)\u001b[0m\u001b[0;34m\u001b[0m\u001b[0;34m\u001b[0m\u001b[0m\n",
      "\u001b[0;31mNameError\u001b[0m: name 'tensor3' is not defined"
     ]
    }
   ],
   "source": [
    "tensor3 = torch.randn((60000, 60000)).to(device)\n",
    "del tensor3\n",
    "tensor3.detach().cpu()\n",
    "torch.cuda.empty_cache()\n"
   ]
  },
  {
   "cell_type": "code",
   "execution_count": 10,
   "id": "e53d1933-c3e8-45f9-ae6b-8878908fb071",
   "metadata": {},
   "outputs": [
    {
     "name": "stdout",
     "output_type": "stream",
     "text": [
      "14400000000\n",
      "14400000000\n"
     ]
    }
   ],
   "source": [
    "print(torch.cuda.memory_allocated())\n",
    "print(torch.cuda.max_memory_allocated())"
   ]
  },
  {
   "cell_type": "code",
   "execution_count": 2,
   "id": "9babd639-cb49-4c3a-b46b-4ed12ec56e24",
   "metadata": {},
   "outputs": [],
   "source": [
    "tensor3 = torch.rand((60000,60000)).to(device)\n",
    "tensor3.detach().cpu()\n",
    "del tensor3\n",
    "# torch.cuda.empty_cache()"
   ]
  },
  {
   "cell_type": "code",
   "execution_count": 3,
   "id": "8a155242-46c2-4624-9822-959d8cb799ea",
   "metadata": {},
   "outputs": [],
   "source": [
    "torch.cuda.empty_cache()"
   ]
  },
  {
   "cell_type": "code",
   "execution_count": 5,
   "id": "8fbddf9c-4d43-4ad8-ab86-391cbd730f4c",
   "metadata": {},
   "outputs": [
    {
     "data": {
      "text/plain": [
       "3"
      ]
     },
     "execution_count": 5,
     "metadata": {},
     "output_type": "execute_result"
    }
   ],
   "source": [
    "3"
   ]
  },
  {
   "cell_type": "code",
   "execution_count": null,
   "id": "110a4812-d91b-410b-b3bb-9bb8be3c6d2e",
   "metadata": {},
   "outputs": [],
   "source": []
  }
 ],
 "metadata": {
  "kernelspec": {
   "display_name": "pytorch-1.9.0",
   "language": "python",
   "name": "pytorch-1.9.0"
  },
  "language_info": {
   "codemirror_mode": {
    "name": "ipython",
    "version": 3
   },
   "file_extension": ".py",
   "mimetype": "text/x-python",
   "name": "python",
   "nbconvert_exporter": "python",
   "pygments_lexer": "ipython3",
   "version": "3.8.11"
  }
 },
 "nbformat": 4,
 "nbformat_minor": 5
}
