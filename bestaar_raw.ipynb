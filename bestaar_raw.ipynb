{
 "cells": [
  {
   "cell_type": "code",
   "execution_count": 1,
   "id": "3093be83-b0a0-4eb3-9ee7-573eecc8fb83",
   "metadata": {},
   "outputs": [],
   "source": [
    "from fastai.vision import *\n",
    "import torchvision\n",
    "import torch\n",
    "import torch.nn as nn\n",
    "import torch.nn.functional as F\n",
    "import torch.backends.cudnn as cudnn\n",
    "from torch import optim\n",
    "# from torchsummary import summary\n",
    "import gc\n",
    "import fastai\n",
    "\n",
    "\n",
    "import numpy as np\n",
    "import matplotlib.pyplot as plt\n",
    "import pathlib \n",
    "import os\n",
    "import copy\n",
    "\n",
    "from torch.utils.data import Dataset, DataLoader\n",
    "from torch.optim import lr_scheduler \n",
    "from torch.autograd import Variable\n",
    "\n",
    "\n",
    "import loader\n",
    "import time \n",
    "from collections import OrderedDict\n",
    "import pdb\n",
    "\n",
    "from ranger import Ranger\n",
    "\n",
    "# use gpu if possible\n",
    "device = torch.device('cuda' if torch.cuda.is_available() else 'cpu')\n",
    "# from fastai import callbacks\n",
    "from fastai.callback import *\n",
    "import fastai.test_utils\n",
    "\n",
    "from fastai.learner import Learner\n",
    "\n",
    "# from fastai.test_utils import *\n",
    "# from fastai.test_utils import hook_outputs\n",
    "\n",
    "# from fastai.utils.mem import *"
   ]
  },
  {
   "cell_type": "code",
   "execution_count": 2,
   "id": "e3205405-13fe-45ad-83e9-d56eb299b62d",
   "metadata": {},
   "outputs": [],
   "source": [
    "from fastai.callback import hook"
   ]
  },
  {
   "cell_type": "code",
   "execution_count": 3,
   "id": "8a5bcf18-49eb-4c83-86be-1964fa303b70",
   "metadata": {},
   "outputs": [
    {
     "data": {
      "text/plain": [
       "<function fastai.callback.hook.hook_outputs(modules, detach=True, cpu=False, grad=False)>"
      ]
     },
     "execution_count": 3,
     "metadata": {},
     "output_type": "execute_result"
    }
   ],
   "source": [
    "hook.hook_outputs"
   ]
  },
  {
   "cell_type": "markdown",
   "id": "7c9f3de4-5c5e-4a3f-ba5b-6f2a381fd649",
   "metadata": {
    "tags": []
   },
   "source": [
    "# Loading data/dataloaders"
   ]
  },
  {
   "cell_type": "code",
   "execution_count": 4,
   "id": "a2b93bf9-8e3e-477f-b2f4-1ce9e9acada1",
   "metadata": {},
   "outputs": [],
   "source": [
    "class Img_Dataset(Dataset):\n",
    "    def __init__(self, data_set, patch_size, width, height, seed=1234):\n",
    "        \"\"\"\n",
    "        Parameters:\n",
    "        -----------\n",
    "        data: np.ndarray\n",
    "            Array that contains image/label pairs ie. corrupted image/clean image.\n",
    "            Shape = (P, N, C, H, W):\n",
    "                P = corrupted/uncorrupted image pair \n",
    "                N = number of samples\n",
    "                C = number of channels\n",
    "                H = image height\n",
    "                W = image width\n",
    "        patch_size: int\n",
    "            Size of randomly chosen image patch the model uses for training\n",
    "        width: int\n",
    "            Width of the chosen sample.\n",
    "            NOTE: It's a parameter because you can input a larger image and choose\n",
    "                  to look at only portions of said image for more training samples.\n",
    "        height: int\n",
    "            Height of the chosen sample.\n",
    "        seed: int \n",
    "            Randomized seed used for the random slicing used to create the image patch.\n",
    "        \"\"\"\n",
    "        self.data_set = data_set\n",
    "        self.patch_size = patch_size\n",
    "        self.width = width\n",
    "        self.height = height\n",
    "        self.seed = seed\n",
    "\n",
    "    def __len__(self):\n",
    "        return len(self.data_set[0])\n",
    "\n",
    "    def __getitem__(self, idx):\n",
    "        \"\"\"\n",
    "        Function that returns the PyTorch Dataloader compatible dataset.\n",
    "        \n",
    "        Parameters:\n",
    "        -----------\n",
    "        idx: var\n",
    "            Variable used in PyTorch Dataloader to be able to sample from the dataset\n",
    "            to create minibatches of the data for us automatically.\n",
    "        \"\"\"\n",
    "        # Loading the dataset and then slicing the image/label pairs \n",
    "        # ie. corrupted/uncorrupted images. \n",
    "        # Note the use of the idx in the image/label variables. This allows the\n",
    "        # PyTorch Dataloader to get all the important data info eg. (N, C, H, W)\n",
    "        data = self.data_set\n",
    "        image = data[0, idx]\n",
    "        label = data[1, idx]\n",
    "        \n",
    "        # Setting the patch size and the randomized seed for the image patch\n",
    "        patch_size = self.patch_size\n",
    "        seed = self.seed\n",
    "        rng = np.random.RandomState(seed)\n",
    "\n",
    "        img_width = self.width\n",
    "        img_height = self.height\n",
    "        \n",
    "        #randomly crop patch from training set\n",
    "        x1 = rng.randint(img_width - patch_size)\n",
    "        y1 = rng.randint(img_height - patch_size)\n",
    "        S = (slice(y1, y1 + patch_size), slice(x1, x1 + patch_size))\n",
    "        \n",
    "        # create new arrays for training patchs\n",
    "        image_patch = image[0][S]\n",
    "        label_patch = label[0][S]\n",
    "        \n",
    "\n",
    "        image_patch = image_patch[np.newaxis, :, :]\n",
    "        label_patch = label_patch[np.newaxis, :, :]\n",
    "        \n",
    "        image_patch = np.concatenate((image_patch,)*3, axis=0)\n",
    "        label_patch = np.concatenate((label_patch,)*3, axis=0)\n",
    "\n",
    "        \n",
    "        # Turning our image/label to a PyTorch Tensor with dtype = float \n",
    "        # and then putting it onto the GPU for faster training/inference\n",
    "        image = torch.from_numpy(image_patch).float().to(device)\n",
    "        label = torch.from_numpy(label_patch).float().to(device)\n",
    "            \n",
    "        return image, label"
   ]
  },
  {
   "cell_type": "code",
   "execution_count": 5,
   "id": "bce92e0d-5fb4-4a4d-b076-cbb865bb2c77",
   "metadata": {},
   "outputs": [
    {
     "name": "stdout",
     "output_type": "stream",
     "text": [
      "Shape of train set= (2, 610, 1, 2000, 2000)\n"
     ]
    }
   ],
   "source": [
    "#Load the actual data that we're working on & print the shape of this data\n",
    "train_data = loader.load('training_data610-2000.npy')\n",
    "test_data = loader.load('test_data200-2000.npy')\n",
    "print('Shape of train set=', train_data.shape)"
   ]
  },
  {
   "cell_type": "code",
   "execution_count": 6,
   "id": "bafe20d8-1952-46bf-9d26-7bba51b123a6",
   "metadata": {},
   "outputs": [],
   "source": [
    "train_ds = Img_Dataset(data_set=train_data,\n",
    "                       patch_size=64,\n",
    "                       height=2000,\n",
    "                       width=2000)\n",
    "\n",
    "test_ds = Img_Dataset(data_set=test_data,\n",
    "                       patch_size=64,\n",
    "                       height=2000,\n",
    "                       width=2000)"
   ]
  },
  {
   "cell_type": "code",
   "execution_count": 7,
   "id": "b59e0df8-23ed-43ef-a513-5d33dfdfb82b",
   "metadata": {},
   "outputs": [
    {
     "name": "stdout",
     "output_type": "stream",
     "text": [
      "Feature batch shape: torch.Size([56, 3, 64, 64])\n",
      "Labels batch shape: torch.Size([56, 3, 64, 64])\n"
     ]
    }
   ],
   "source": [
    "train_dataloader = DataLoader(train_ds, batch_size=56, shuffle=True)\n",
    "test_dataloader = DataLoader(test_ds, batch_size=56, shuffle=True)\n",
    "\n",
    "train_features, train_labels = next(iter(train_dataloader))\n",
    "print(f\"Feature batch shape: {train_features.size()}\")\n",
    "print(f\"Labels batch shape: {train_labels.size()}\")"
   ]
  },
  {
   "cell_type": "code",
   "execution_count": 8,
   "id": "d4afc7ba-102d-49eb-ba77-058f1b6a485b",
   "metadata": {},
   "outputs": [],
   "source": [
    "# pre-trained VGG16 (with  batch norm) for feature loss\n",
    "from torchvision.models import vgg16_bn\n"
   ]
  },
  {
   "cell_type": "code",
   "execution_count": 9,
   "id": "3f0b54fd-ee28-43c7-a873-604aea6563e1",
   "metadata": {},
   "outputs": [],
   "source": [
    "bs=8 #batch size\n",
    "size=2000 # image size (size x size)"
   ]
  },
  {
   "cell_type": "code",
   "execution_count": 10,
   "id": "b06d523c-2e3e-4877-932d-946810093463",
   "metadata": {},
   "outputs": [
    {
     "data": {
      "image/png": "[encoded data removed]",
      "text/plain": [
       "<Figure size 1728x1440 with 2 Axes>"
      ]
     },
     "metadata": {
      "needs_background": "light"
     },
     "output_type": "display_data"
    }
   ],
   "source": [
    "def display_training_pair(dataloader, sample_id):\n",
    "    \n",
    "    images, labels = next(iter(dataloader))    \n",
    "    images = images.detach().cpu().numpy()\n",
    "    labels = labels.detach().cpu().numpy()\n",
    "\n",
    "    \n",
    "    fig, ax = plt.subplots(1, 2, figsize=(24,20))\n",
    "    vmin, vmax = np.percentile(images[sample_id][0], (1,99))\n",
    "\n",
    "\n",
    "    ax[0].imshow(images[sample_id][0], vmin=vmin, vmax=vmax, origin='lower', interpolation='none')\n",
    "    ax[0].set_title('Noisy Patch', fontsize=30)\n",
    "    ax[0].axis('off')\n",
    "    ax[1].imshow(labels[sample_id][0], vmin=vmin, vmax=vmax, origin='lower', interpolation='none')\n",
    "    ax[1].set_title('Clean Patch', fontsize=30)\n",
    "    ax[1].axis('off')\n",
    "    \n",
    "display_training_pair(dataloader=train_dataloader, sample_id=0)"
   ]
  },
  {
   "cell_type": "markdown",
   "id": "22c3adcd-5f2e-43a7-87d3-7a4ef303fdc2",
   "metadata": {
    "tags": []
   },
   "source": [
    "# Implementing [this](https://github.com/bestaar/predictiveFilterFlow/blob/master/predictiveFilterFlow.ipynb) guys code"
   ]
  },
  {
   "cell_type": "code",
   "execution_count": 11,
   "id": "fe819153-1158-4071-8f51-1fc01edf4469",
   "metadata": {},
   "outputs": [],
   "source": [
    "# predictive filter flow layer\n",
    "# https://arxiv.org/abs/1811.11482\n",
    "# Kong, S., & Fowlkes, C. (2018). Image reconstruction with predictive filter flow. arXiv preprint arXiv:1811.11482.\n",
    "# - learn and apply individual filters (ksize x ksize) for each spatial position in the input\n",
    "# - i.e. when using softmax activation it is basically image warping, but instead of offsets, we learn filters\n",
    "class pFF(nn.Module):\n",
    "    def __init__(self,ni, ksize=3,stride=1,softmax = True,upsample=1):\n",
    "        super(pFF, self).__init__()\n",
    "        # size of the learned filter: ksize x ksize\n",
    "        self.ksize=ksize\n",
    "        # use softmax or tanh\n",
    "        self.softmax = softmax\n",
    "        # upsampling of the learned filters (gives smoother result)\n",
    "        self.upsample = upsample\n",
    "        # train conv layer to output filter flow and use reflection padding\n",
    "        self.get_filter = nn.Conv2d(ni,ksize**2,3,padding=1,stride=upsample,padding_mode='reflect')\n",
    "        self.pad = nn.ReflectionPad2d(padding=int((ksize-1)/2)*stride)\n",
    "        # apply learned filters\n",
    "        self.uf1 = nn.Unfold(ksize, dilation=stride, padding=0, stride=1)\n",
    "        self.uf2 = nn.Unfold(1, dilation=1, padding=0, stride=1)\n",
    "        if upsample>1:\n",
    "            self.us = nn.UpsamplingBilinear2d(scale_factor=upsample)\n",
    "        \n",
    "    def forward(self, features,inpt):\n",
    "        # features: features learned by CNN, inpt: input that filters should be applied to\n",
    "        # 1: get filter\n",
    "        ff = self.get_filter(features)\n",
    "        # 2: apply activation function\n",
    "        if self.softmax:\n",
    "            ff = F.softmax(ff,dim=1)\n",
    "        else:\n",
    "            ff = torch.tanh(ff)\n",
    "        if self.upsample>1:\n",
    "            ff = self.us(ff)\n",
    "            \n",
    "        # apply learned filters\n",
    "        inp_pad = self.pad(inpt)\n",
    "        \n",
    "        # use filter on each channel/feature of the input\n",
    "        ff = torch.cat([ff]*inpt.shape[1],dim=1)\n",
    "        out = self.uf1(inp_pad) * self.uf2(ff)\n",
    "        out = out.view(-1,inpt.shape[1],self.ksize**2,inpt.shape[2],inpt.shape[3])\n",
    "        return out.sum(dim=2)"
   ]
  },
  {
   "cell_type": "code",
   "execution_count": 12,
   "id": "944a7451-5b59-4044-9c05-41ed6145c4c8",
   "metadata": {},
   "outputs": [],
   "source": [
    "# Build U-Net for face2face translation usining predictive filter flow\n",
    "# U-Net adapted from https://github.com/milesial/Pytorch-UNet\n",
    "# - use residual blocks instead of double convolution\n",
    "# - replaced transpose conv with PixelShuffle for efficiency\n",
    "# - replaced conv2d with depthwise separable conv for efficiency\n",
    "# - Use Mish activation function: code by https://github.com/lessw2020/mish\n",
    "# - multiple residual blocks in the middle\n",
    "# - predictive filter flow\n",
    "\n",
    "\n",
    "class Mish(nn.Module):\n",
    "    # source: https://github.com/lessw2020/mish\n",
    "    def __init__(self):\n",
    "        super().__init__()\n",
    "    def forward(self, x):\n",
    "        #inlining this saves 1 second per epoch (V100 GPU) vs having a temp x and then returning x(!)\n",
    "        return x *( torch.tanh(F.softplus(x)))\n",
    "    \n",
    "\n",
    "class depthwise_separable_conv(nn.Module):\n",
    "    # source: \"shicai\": https://discuss.pytorch.org/t/how-to-modify-a-conv2d-to-depthwise-separable-convolution/15843)\n",
    "    def __init__(self, nin, nout,stride=1,ksize=3):\n",
    "        super(depthwise_separable_conv, self).__init__()\n",
    "        self.depthwise = nn.Conv2d(nin, nin, kernel_size=ksize, padding=int((ksize-1)/2), groups=nin,stride=stride,padding_mode='reflect')\n",
    "        self.pointwise = nn.Conv2d(nin, nout, kernel_size=1)\n",
    "    def forward(self, x):\n",
    "        out = self.depthwise(x)\n",
    "        out = self.pointwise(out)\n",
    "        return out\n",
    "\n",
    "class block1(nn.Module):\n",
    "    def __init__(self,ni,no,stride=2,last_act=True):\n",
    "        super(block1, self).__init__()\n",
    "        self.bottleneck = ni != no\n",
    "        self.last_act = last_act\n",
    "        self.stride=stride\n",
    "        self.sconv1 = depthwise_separable_conv(ni,no,stride)\n",
    "        self.sconv2 = depthwise_separable_conv(no,no)\n",
    "        self.sconv3 = depthwise_separable_conv(no,no)\n",
    "        self.normact0 = nn.Sequential(nn.BatchNorm2d(no),Mish())\n",
    "        self.normact1 = nn.Sequential(nn.BatchNorm2d(no),Mish())\n",
    "        self.normact2 = nn.Sequential(nn.BatchNorm2d(no),Mish())\n",
    "    def forward(self,x):\n",
    "        if self.stride>1 or self.bottleneck:\n",
    "            x = self.normact0(self.sconv1(x))\n",
    "        residual = x\n",
    "        out = self.normact1(self.sconv2(x))\n",
    "        out = self.sconv3(out)\n",
    "        out += residual\n",
    "        if self.last_act:\n",
    "            out = self.normact2(out)\n",
    "        return out\n",
    "\n",
    "\n",
    "class inconv(nn.Module):\n",
    "    def __init__(self, in_ch, out_ch):\n",
    "        super(inconv, self).__init__()\n",
    "        self.conv = nn.Sequential(\n",
    "            depthwise_separable_conv(in_ch, out_ch,1,7),\n",
    "            Mish()\n",
    "        )\n",
    "    def forward(self, x):\n",
    "        x = self.conv(x)\n",
    "        return x\n",
    "\n",
    "\n",
    "class down(nn.Module):\n",
    "    def __init__(self, in_ch, out_ch):\n",
    "        super(down, self).__init__()\n",
    "        self.conv = block1(in_ch,out_ch,2)\n",
    "    def forward(self, x):\n",
    "        x = self.conv(x)\n",
    "        return x\n",
    "\n",
    "    \n",
    "class res_block(nn.Module):\n",
    "    def __init__(self, in_ch):\n",
    "        super(res_block, self).__init__()\n",
    "        self.resconv = nn.Sequential(\n",
    "            block1(in_ch,in_ch,1,False),\n",
    "            block1(in_ch,in_ch,1,False),\n",
    "            block1(in_ch,in_ch,1,False),\n",
    "            block1(in_ch,in_ch,1,False)\n",
    "        )\n",
    "    def forward(self, x):\n",
    "        x = self.resconv(x)\n",
    "        return x\n",
    "    \n",
    "\n",
    "class up(nn.Module):\n",
    "    def __init__(self, in_ch,mid_ch, out_ch, bilinear=True):\n",
    "        super(up, self).__init__()\n",
    "        # theoretically it makes sense to add another conv layer before pixel\n",
    "        # shuffle since we need a positional encoding, but here I did not find\n",
    "        # it to be necessary\n",
    "#         self.conv1 = nn.Conv2d(in_ch, in_ch, kernel_size=1)\n",
    "        self.ups = nn.modules.PixelShuffle(2)\n",
    "        self.norm = nn.BatchNorm2d(in_ch//4+mid_ch)\n",
    "        self.conv2 = block1(in_ch//4+mid_ch, out_ch,1)\n",
    "    def forward(self, x1, x2):\n",
    "        # double spatial resolution via pixel shuffle\n",
    "#         x1 = self.conv1(x1) \n",
    "        x1 = self.ups(x1)\n",
    "        # combine information of high- and low-level features\n",
    "        x = torch.cat([x2, x1], dim=1)\n",
    "        x = self.norm(x)\n",
    "        x = self.conv2(x)\n",
    "        return x  \n",
    "    \n",
    "    \n",
    "\n",
    "class UNet(nn.Module):\n",
    "    def __init__(self):\n",
    "        super(UNet, self).__init__()\n",
    "        self.inc = inconv(3, 64)\n",
    "        self.down1 = down(64, 64)\n",
    "        self.down2 = down(64, 128)\n",
    "        self.down3 = down(128,256)\n",
    "        self.down4 = down(256,256)\n",
    "        self.res1 = res_block(256)\n",
    "        \n",
    "        self.up1 = up(256,256, 256)\n",
    "        self.up2 = up(256,128, 128)\n",
    "        self.up3 = up(128,64,64)\n",
    "        self.up4 = up(64,64, 64)\n",
    "        \n",
    "        self.filter0 = pFF(64, ksize=9)\n",
    "        self.filter1 = pFF(64, ksize=9,stride=4)\n",
    "        self.filter2 = pFF(64, ksize=9,stride=8)\n",
    "        self.filter3 = pFF(64, ksize=9)\n",
    "        \n",
    "    def forward(self, inp):\n",
    "        x1 = self.inc(inp)\n",
    "        x2 = self.down1(x1)\n",
    "        x3 = self.down2(x2)\n",
    "        x4 = self.down3(x3)\n",
    "        x5 = self.down4(x4)\n",
    "        x = self.res1(x5)\n",
    "        \n",
    "        x = self.up1(x, x4)\n",
    "        x = self.up2(x, x3)\n",
    "        x = self.up3(x, x2)\n",
    "        x = self.up4(x, x1)\n",
    "        filtered = self.filter0(x,inp)\n",
    "        filtered = self.filter1(x,filtered)\n",
    "        filtered = self.filter2(x,filtered)\n",
    "        filtered = self.filter3(x,filtered)\n",
    "    \n",
    "        return filtered#torch.sigmoid(x)*4-1.6 #x\n",
    "\n",
    "model = UNet()\n",
    "model = model.to(device)\n",
    "# summary(model, input_size=(3, size,size))"
   ]
  },
  {
   "cell_type": "code",
   "execution_count": 13,
   "id": "f13c11e0-4cc7-4dd8-b0c8-49f26260f2e5",
   "metadata": {},
   "outputs": [],
   "source": [
    "def charbonnier(y_pred, y_true):\n",
    "    epsilon = 1e-3\n",
    "    error = y_true - y_pred\n",
    "    p = torch.sqrt(error**2 + epsilon**2)\n",
    "    return torch.mean(p)\n",
    "\n",
    "\n",
    "# Perceptual Loss:\n",
    "# original code from: fast.ai lesson ???\n",
    "# modifications:\n",
    "# - Instance Normalization of low-level features to remove influence of \"style\"\n",
    "def gram_matrix(x):\n",
    "    n,c,h,w = x.size()\n",
    "    x = x.view(n, c, -1)\n",
    "    return (x @ x.transpose(1,2))/(c*h*w)\n",
    "vgg_m = vgg16_bn(True).features.cuda().eval()\n",
    "\n",
    "vgg_m.requires_grad_(False)\n",
    "blocks = [i-1 for i,o in enumerate(vgg_m.children()) if isinstance(o,nn.MaxPool2d)]\n",
    "\n",
    "# requires_grad(vgg_m, False)\n",
    "# blocks = [i-1 for i,o in enumerate(children(vgg_m)) if isinstance(o,nn.MaxPool2d)]\n",
    "\n",
    "base_loss = F.mse_loss\n",
    "\n",
    "class FeatureLoss(nn.Module):\n",
    "    def __init__(self, m_feat, layer_ids, layer_wgts,without_instancenorm=1):\n",
    "        super().__init__()\n",
    "        self.m_feat = m_feat\n",
    "        # how many layers are not subjected to instance norm (starting from high-level, i.e. later layers)\n",
    "        self.without_instancenorm = without_instancenorm\n",
    "        self.loss_features = [self.m_feat[i] for i in layer_ids]\n",
    "        self.hooks = hook.hook_outputs(self.loss_features, detach=False)\n",
    "        self.wgts = layer_wgts\n",
    "        self.metric_names = [f'feat_{i}' for i in range(len(layer_ids))\n",
    "                                         ]+ [f'gram_{i}' for i in range(len(layer_ids))]\n",
    "              \n",
    "\n",
    "    def make_features(self, x, clone=False):\n",
    "        self.m_feat(x)\n",
    "        return [(o.clone() if clone else o) for o in self.hooks.stored]\n",
    "    \n",
    "    def forward(self, input, target):\n",
    "        out_feat = self.make_features(target, clone=True)\n",
    "        in_feat = self.make_features(input)\n",
    "        try:\n",
    "            # instance normalization for all but last layer\n",
    "            for l in range(len(in_feat)-self.without_instancenorm):\n",
    "                in_feat[l] = nn.InstanceNorm2d(in_feat[l][1],momentum=0)(in_feat[l])\n",
    "                out_feat[l] = nn.InstanceNorm2d(out_feat[l][1],momentum=0)(out_feat[l])\n",
    "                \n",
    "            self.feat_losses = [base_loss(f_in, f_out)*w\n",
    "                                 for f_in, f_out, w in zip(in_feat, out_feat, self.wgts)]\n",
    "            self.feat_losses += [base_loss(gram_matrix(f_in), gram_matrix(f_out))*w**2 * 5e3\n",
    "                                 for f_in, f_out, w in zip(in_feat, out_feat, self.wgts)]\n",
    "        except IndexError: # No idea why this tends to happen (only during validation)\n",
    "            self.feat_losses = [torch.tensor(1).float().to(device)]\n",
    "            for k in range(6):\n",
    "                self.feat_losses += [torch.tensor(1).float().to(device)]\n",
    "        self.metrics = dict(zip(self.metric_names, self.feat_losses))\n",
    "        return sum(self.feat_losses)\n",
    "    \n",
    "    def __del__(self): self.hooks.remove()\n",
    "        \n",
    "        \n",
    "feat_loss = FeatureLoss(vgg_m, blocks[2:5], [2,2,3])"
   ]
  },
  {
   "cell_type": "code",
   "execution_count": null,
   "id": "7261f367-a625-4ca4-87c0-7cc35c793996",
   "metadata": {},
   "outputs": [],
   "source": []
  },
  {
   "cell_type": "code",
   "execution_count": 14,
   "id": "43f4a6f7-9190-46fa-90b7-751b0c2e74d5",
   "metadata": {},
   "outputs": [
    {
     "ename": "NameError",
     "evalue": "name 'DataLoaders' is not defined",
     "output_type": "error",
     "traceback": [
      "\u001b[0;31m---------------------------------------------------------------------------\u001b[0m",
      "\u001b[0;31mNameError\u001b[0m                                 Traceback (most recent call last)",
      "\u001b[0;32m/tmp/ipykernel_10524/2947620602.py\u001b[0m in \u001b[0;36m<module>\u001b[0;34m\u001b[0m\n\u001b[0;32m----> 1\u001b[0;31m \u001b[0mdls\u001b[0m \u001b[0;34m=\u001b[0m \u001b[0mDataLoaders\u001b[0m\u001b[0;34m.\u001b[0m\u001b[0mfrom_dsets\u001b[0m\u001b[0;34m(\u001b[0m\u001b[0mtrain_ds\u001b[0m\u001b[0;34m,\u001b[0m \u001b[0mtest_ds\u001b[0m\u001b[0;34m)\u001b[0m\u001b[0;34m\u001b[0m\u001b[0;34m\u001b[0m\u001b[0m\n\u001b[0m\u001b[1;32m      2\u001b[0m \u001b[0mdls\u001b[0m\u001b[0;34m.\u001b[0m\u001b[0mshow_batch\u001b[0m\u001b[0;34m(\u001b[0m\u001b[0;34m)\u001b[0m\u001b[0;34m\u001b[0m\u001b[0;34m\u001b[0m\u001b[0m\n",
      "\u001b[0;31mNameError\u001b[0m: name 'DataLoaders' is not defined"
     ]
    }
   ],
   "source": [
    "dls = DataLoaders.from_dsets(train_ds, test_ds)\n",
    "dls.show_batch()"
   ]
  },
  {
   "cell_type": "code",
   "execution_count": null,
   "id": "c48d0683-91f5-4007-bd4d-de88a6448149",
   "metadata": {},
   "outputs": [],
   "source": []
  },
  {
   "cell_type": "code",
   "execution_count": null,
   "id": "07516f6f-96d0-49c8-9262-4b9f1e4f829d",
   "metadata": {},
   "outputs": [],
   "source": []
  },
  {
   "cell_type": "code",
   "execution_count": null,
   "id": "90bda4cb-a467-4743-b589-91cf0b18c52e",
   "metadata": {},
   "outputs": [],
   "source": []
  },
  {
   "cell_type": "code",
   "execution_count": null,
   "id": "6f36d4ff-eff3-4bf5-8fae-6a5e1aa69ac3",
   "metadata": {},
   "outputs": [],
   "source": [
    "from fastai.data.core import DataLoaders\n",
    "# dls = DataLoaders(train_dataloader)\n",
    "\n",
    "dl_noise = DataLoader(train_data[0])\n",
    "dl_clean = DataLoader(train_data[1])\n",
    "\n",
    "dls = DataLoaders(dl_noise, dl_clean)"
   ]
  },
  {
   "cell_type": "code",
   "execution_count": null,
   "id": "275cf9ca-0ba1-4791-8795-4fcfb1e90acc",
   "metadata": {},
   "outputs": [],
   "source": [
    "len(dls)"
   ]
  },
  {
   "cell_type": "code",
   "execution_count": null,
   "id": "eccd42ce-8b0f-4a41-9f0f-e0c4741bd050",
   "metadata": {},
   "outputs": [],
   "source": [
    "G = Learner(dls,model,loss_func=feat_loss, opt_func=Ranger)\n",
    "gc.collect()\n",
    "\n",
    "G.show_results(rows=2, imgsize=5)"
   ]
  },
  {
   "cell_type": "code",
   "execution_count": null,
   "id": "26e8e3f7-570b-440d-8f7e-104596c42caa",
   "metadata": {},
   "outputs": [],
   "source": [
    "# G = Learner(test_dataloader,model,loss_func=feat_loss, opt_func=Ranger)\n",
    "G = Learner(train_data,model,loss_func=feat_loss, opt_func=Ranger)\n",
    "gc.collect()\n",
    "\n",
    "G.show_results(rows=2, imgsize=5)"
   ]
  },
  {
   "cell_type": "code",
   "execution_count": null,
   "id": "06e16ee6-2f2d-4e99-ab7e-c0e4deacfb11",
   "metadata": {},
   "outputs": [],
   "source": [
    "np.allclose(G.dls, train_data)"
   ]
  },
  {
   "cell_type": "code",
   "execution_count": null,
   "id": "36d58c4b-33d2-4b01-bf4d-a5def5a829b8",
   "metadata": {},
   "outputs": [],
   "source": [
    "Learner??"
   ]
  },
  {
   "cell_type": "code",
   "execution_count": null,
   "id": "ae8bca4f-4f01-4484-8bbf-4fe89982127e",
   "metadata": {},
   "outputs": [],
   "source": [
    "# path_inp = 'data/A2JackieChan'\n",
    "\n",
    "\n",
    "path_inp = 'pscratch/sd/m/mdowicz/DESI_dn/Data/training_data610-2000.npy'\n",
    "src = ImageImageList.from_folder(path_inp).split_by_rand_pct(0.05, seed=42)\n"
   ]
  },
  {
   "cell_type": "code",
   "execution_count": null,
   "id": "2472dbf6-3809-432d-853a-8657a8434602",
   "metadata": {},
   "outputs": [],
   "source": [
    "def get_data(bs,size):\n",
    "    data = (torch.from_numpy(train_data)\n",
    "           .transform(get_transforms(), size=size, tfm_y=True)\n",
    "           .databunch(bs=bs).normalize(imagenet_stats, do_y=True))\n",
    "\n",
    "    data.c = 3\n",
    "    return data\n",
    "data = get_data(bs,size)\n",
    "data.show_batch(ds_type=DatasetType.Valid, rows=2, figsize=(9,9))\n",
    "data"
   ]
  },
  {
   "cell_type": "code",
   "execution_count": null,
   "id": "f2646e64-d24c-4c64-863e-46c90321b8f3",
   "metadata": {},
   "outputs": [],
   "source": [
    "# G = Learner(test_dataloader,model,loss_func=feat_loss, opt_func=Ranger)\n",
    "G = Learner(train_data,model,loss_func=feat_loss, opt_func=Ranger)\n",
    "\n",
    "gc.collect()\n",
    "# show output before training\n",
    "\n",
    "\n",
    "G.show_results(rows=2, imgsize=5)"
   ]
  },
  {
   "cell_type": "code",
   "execution_count": null,
   "id": "c51b71d1-60a3-45cc-8049-2b3c4780128e",
   "metadata": {},
   "outputs": [],
   "source": [
    "train_ds"
   ]
  },
  {
   "cell_type": "code",
   "execution_count": null,
   "id": "b381afa0-744b-4933-bd2f-a1dd9d9986c8",
   "metadata": {},
   "outputs": [],
   "source": []
  }
 ],
 "metadata": {
  "kernelspec": {
   "display_name": "pytorch-1.9.0",
   "language": "python",
   "name": "pytorch-1.9.0"
  },
  "language_info": {
   "codemirror_mode": {
    "name": "ipython",
    "version": 3
   },
   "file_extension": ".py",
   "mimetype": "text/x-python",
   "name": "python",
   "nbconvert_exporter": "python",
   "pygments_lexer": "ipython3",
   "version": "3.8.11"
  },
  "toc-autonumbering": false,
  "toc-showcode": false,
  "toc-showmarkdowntxt": false,
  "toc-showtags": false
 },
 "nbformat": 4,
 "nbformat_minor": 5
}
