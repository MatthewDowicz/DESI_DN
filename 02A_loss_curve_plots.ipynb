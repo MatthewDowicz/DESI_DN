{
 "cells": [
  {
   "cell_type": "code",
   "execution_count": 1,
   "id": "99cf4ca3-ea43-4471-9e34-6e160ce8b035",
   "metadata": {},
   "outputs": [
    {
     "name": "stdout",
     "output_type": "stream",
     "text": [
      "Using cuda device\n"
     ]
    }
   ],
   "source": [
    "# import save_load as sl\n",
    "# import preprocess_data as ppd\n",
    "import torch\n",
    "from torch import nn\n",
    "from torch.utils.data import DataLoader\n",
    "# from model import DnCNN\n",
    "# from Dataset import Img_Dataset\n",
    "import numpy as np \n",
    "import pathlib\n",
    "import matplotlib.pyplot as plt\n",
    "\n",
    "# Importing utitility functions for training\n",
    "from PT_files.model import DnCNN, DnCNN_B\n",
    "from PT_files.Dataset import Img_Dataset, Large_Img_Dataset\n",
    "import PT_files.preprocess_data as ppd\n",
    "import PT_files.save_load as sl\n",
    "\n",
    "device = \"cuda\" if torch.cuda.is_available() else \"cpu\""
   ]
  },
  {
   "cell_type": "code",
   "execution_count": 2,
   "id": "8ba2e6dc-9ea4-4c3e-965f-b9f385ca4ee7",
   "metadata": {},
   "outputs": [],
   "source": [
    "# raw_data = sl.NERSC_load('data270-6000.npy')"
   ]
  },
  {
   "cell_type": "code",
   "execution_count": 3,
   "id": "a9ade123-74b5-4efc-91d1-c030b0dfa117",
   "metadata": {},
   "outputs": [],
   "source": [
    "# ppd.create_data_sets(data=raw_data,\n",
    "#                  train_size=162,\n",
    "#                  test_size=108,\n",
    "#                  training_set_name='training_data_60%_6000.npy',\n",
    "#                  test_set_name='test_data_40%_6000.npy')\n",
    "\n",
    "# ppd.create_data_sets(data=raw_data,\n",
    "#                  train_size=486,\n",
    "#                  test_size=324,\n",
    "#                  training_set_name='training_data_60%_2000.npy',\n",
    "#                  test_set_name='test_data_40%_2000.npy')"
   ]
  },
  {
   "cell_type": "code",
   "execution_count": 4,
   "id": "8162680b-ebd3-49fc-87fb-f1cf5d653cbd",
   "metadata": {},
   "outputs": [],
   "source": [
    "# training_data = sl.NERSC_load('training_data_60%_2000.npy')\n",
    "# test_data = sl.NERSC_load('test_data_40%_2000.npy')\n",
    "\n",
    "training_data = sl.NERSC_load('training_data_60%_6000.npy')\n",
    "test_data = sl.NERSC_load('test_data_40%_6000.npy')"
   ]
  },
  {
   "cell_type": "code",
   "execution_count": 5,
   "id": "15c0631b-6cec-456b-abae-e6916624fc9e",
   "metadata": {},
   "outputs": [],
   "source": [
    "train_dataset = Img_Dataset(data_set=training_data,\n",
    "                                  patch_size=100,\n",
    "                                  width=6000,\n",
    "                                  height=6000)\n",
    "\n",
    "test_dataset = Img_Dataset(data_set=test_data,\n",
    "                                patch_size=100,\n",
    "                                width=6000,\n",
    "                                height=6000)"
   ]
  },
  {
   "cell_type": "code",
   "execution_count": 6,
   "id": "0b4325c3-dea1-47d2-93e3-53cccef97564",
   "metadata": {},
   "outputs": [],
   "source": [
    "device = \"cuda\" if torch.cuda.is_available() else \"cpu\"\n",
    "# device = \"cpu\""
   ]
  },
  {
   "cell_type": "code",
   "execution_count": 7,
   "id": "754cd581-4e67-44b6-8b59-3a686a195fcf",
   "metadata": {},
   "outputs": [],
   "source": [
    "def train_one_step(model, imgs, labels, optimizer):\n",
    "    optimizer.zero_grad()\n",
    "  \n",
    "    \n",
    "    output = model(imgs)\n",
    "    loss_fn = nn.MSELoss(reduction='sum')\n",
    "    loss = loss_fn(output, labels) /(2*len(imgs))\n",
    "\n",
    "    loss.backward()\n",
    "    optimizer.step()\n",
    "    return loss\n",
    "\n",
    "def train_one_epoch(model, dataloader, optimizer):\n",
    "    model.train()\n",
    "    total_loss = 0\n",
    "    for batch_index, (imgs, labels) in enumerate(dataloader):\n",
    "        # imgs = imgs.type(torch.FloatTensor)\n",
    "        # labels = labels.type(torch.FloatTensor)\n",
    "        \n",
    "        loss = train_one_step(model, imgs, labels, optimizer)\n",
    "        total_loss += loss\n",
    "        \n",
    "    return total_loss"
   ]
  },
  {
   "cell_type": "code",
   "execution_count": 8,
   "id": "bc34cb9c-45e8-4c74-8360-29ece1d371c4",
   "metadata": {},
   "outputs": [],
   "source": [
    "def validate_one_step(model, imgs, labels):\n",
    "    output = model(imgs)\n",
    "    loss_fn = nn.MSELoss(reduction='sum')\n",
    "    loss = loss_fn(output, labels) /(2*len(imgs))\n",
    "    return loss\n",
    "\n",
    "def validate_one_epoch(model, dataloader):\n",
    "    model.eval()\n",
    "    total_loss = 0\n",
    "    for batch_index, (imgs, labels) in enumerate(dataloader):\n",
    "        # imgs = imgs.type(torch.FloatTensor)\n",
    "        # labels = labels.type(torch.FloatTensor)\n",
    "        with torch.no_grad():\n",
    "            loss = validate_one_step(model, imgs, labels)\n",
    "        total_loss += loss\n",
    "    return total_loss"
   ]
  },
  {
   "cell_type": "code",
   "execution_count": 9,
   "id": "9ed506e1-1ff2-406b-847d-e96e4a9c69e4",
   "metadata": {},
   "outputs": [],
   "source": [
    "def create_loss_curves(model, train_ds, val_ds, batch_size, data_shuffle, num_epochs):\n",
    "    \n",
    "     # Training data\n",
    "    train_loader = DataLoader(train_ds,\n",
    "                              batch_size=batch_size,\n",
    "                              shuffle=data_shuffle)\n",
    "    \n",
    "    # Validation data\n",
    "    test_loader = DataLoader(val_ds,\n",
    "                             batch_size=batch_size,\n",
    "                             shuffle=data_shuffle)\n",
    "    \n",
    "    # optimizer = torch.optim.Adam(model.parameters(),\n",
    "    #                                  lr=1e-3, \n",
    "    #                                  weight_decay=0.0,\n",
    "    #                                  eps=1e-07)\n",
    "    optimizer = torch.optim.Adam(model.parameters(),\n",
    "                                     lr=0.1e-3, \n",
    "                                     weight_decay=0.0,\n",
    "                                     eps=1e-8,\n",
    "                                     amsgrad=True)\n",
    "    \n",
    "    # optimizer = torch.optim.SGD(model.parameters(), lr=4.879e-8)#, weight_decay=0.0001, momentum=0.9)\n",
    "\n",
    "    \n",
    "     # Track learning curve\n",
    "    losses, val_losses = [], []\n",
    "    \n",
    "    for epoch in range(num_epochs):\n",
    "        losses.append(train_one_epoch(model, train_loader, optimizer).cpu().detach().numpy())#detach().numpy())\n",
    "        val_losses.append(validate_one_epoch(model, test_loader).cpu().detach().numpy())#detach().numpy())\n",
    "\n",
    "    \n",
    "    print(\"Final Training Loss: {}\".format(losses[-1]))\n",
    "    print(\"Final Validation Loss: {}\".format(val_losses[-1]))\n",
    "    \n",
    "    return np.asarray(losses), np.asarray(val_losses)"
   ]
  },
  {
   "cell_type": "code",
   "execution_count": 14,
   "id": "6404d04a-4ef7-4737-bcab-2b62dcbc597c",
   "metadata": {},
   "outputs": [
    {
     "name": "stdout",
     "output_type": "stream",
     "text": [
      "Final Training Loss: 13.265122413635254\n",
      "Final Validation Loss: 9.038761138916016\n"
     ]
    }
   ],
   "source": [
    "model = DnCNN(num_layers=10, num_features=32).to(device)\n",
    "losses, val_losses = create_loss_curves(model=model,\n",
    "                 train_ds=train_dataset,\n",
    "                 val_ds=test_dataset,\n",
    "                 batch_size=24,\n",
    "                 data_shuffle=True,\n",
    "                 num_epochs=800)"
   ]
  },
  {
   "cell_type": "code",
   "execution_count": 15,
   "id": "eaab5a43-c48e-4b27-9d43-1b06c9176aea",
   "metadata": {},
   "outputs": [],
   "source": [
    "# losses = np.log(losses)\n",
    "# val_losses = np.log(val_losses)"
   ]
  },
  {
   "cell_type": "code",
   "execution_count": 17,
   "id": "7c3dfc96-dffd-4a0b-97fd-ab600d5aa11d",
   "metadata": {},
   "outputs": [
    {
     "data": {
      "image/png": "[encoded data removed]",
      "text/plain": [
       "<Figure size 720x604.8 with 1 Axes>"
      ]
     },
     "metadata": {
      "needs_background": "light"
     },
     "output_type": "display_data"
    }
   ],
   "source": [
    "plt.figure(figsize=(10,8.4));\n",
    "plt.title(\"Learning Curve for 6k model - 20 layers & 48 features\", size=20);\n",
    "plt.plot(range(800), np.asarray(losses), label=\"Train\");\n",
    "plt.plot(range(800), np.asarray(val_losses), label=\"Validation\", alpha=0.5);\n",
    "plt.plot(np.argmin(losses), np.asarray(losses[np.argmin(losses)]), 'go', label='Minimum Train Loss = ' f'{losses[np.argmin(losses)]:.3f}')\n",
    "plt.plot(np.argmin(val_losses), np.asarray(val_losses[np.argmin(val_losses)]), 'ro', label='Minimum Validation Loss = ' f'{val_losses[np.argmin(val_losses)]:.3f}')\n",
    "plt.xlabel(\"Epochs\", size=20);\n",
    "plt.ylabel(\"Loss\", size=20);\n",
    "plt.yscale('log')\n",
    "# plt.ylim(0,100);\n",
    "plt.legend(fontsize=10);\n",
    "plt.show();"
   ]
  },
  {
   "cell_type": "code",
   "execution_count": null,
   "id": "fa61b8d8-15a7-4113-88fa-6cab6515f30c",
   "metadata": {},
   "outputs": [],
   "source": [
    "np.argmin(np.asarray(losses))"
   ]
  },
  {
   "cell_type": "code",
   "execution_count": null,
   "id": "dea9e588-07e7-40a4-b64d-d7cfaed00bf7",
   "metadata": {},
   "outputs": [],
   "source": [
    "np.argmin((val_losses))"
   ]
  },
  {
   "cell_type": "code",
   "execution_count": 18,
   "id": "42e0ac90-9028-40a5-9240-f4386e980ffb",
   "metadata": {},
   "outputs": [
    {
     "name": "stdout",
     "output_type": "stream",
     "text": [
      "Saved PyTorch Model State to model.pth\n"
     ]
    }
   ],
   "source": [
    "# Saving Models\n",
    "current_dir = pathlib.Path().resolve()\n",
    "model_params_path = current_dir / 'Model_params'\n",
    "assert model_params_path.exists()\n",
    "name = \"6k_model_wb_e800_lys10_32feat.pth\"\n",
    "path = model_params_path / name\n",
    "torch.save(model.state_dict(), path)\n",
    "print(\"Saved PyTorch Model State to model.pth\")"
   ]
  },
  {
   "cell_type": "code",
   "execution_count": null,
   "id": "9b62a8d7-1d26-4826-9db4-823136affdba",
   "metadata": {},
   "outputs": [],
   "source": []
  },
  {
   "cell_type": "code",
   "execution_count": 15,
   "id": "4a35f105-4b00-4a90-9762-9507a55b4864",
   "metadata": {},
   "outputs": [
    {
     "data": {
      "text/plain": [
       "766"
      ]
     },
     "execution_count": 15,
     "metadata": {},
     "output_type": "execute_result"
    }
   ],
   "source": [
    "np.argmin(np.asarray(losses))"
   ]
  },
  {
   "cell_type": "code",
   "execution_count": 16,
   "id": "dc0cdeeb-1c80-4e78-a45d-d5a5cb0f97e6",
   "metadata": {},
   "outputs": [
    {
     "data": {
      "text/plain": [
       "770"
      ]
     },
     "execution_count": 16,
     "metadata": {},
     "output_type": "execute_result"
    }
   ],
   "source": [
    "np.argmin((val_losses))"
   ]
  },
  {
   "cell_type": "code",
   "execution_count": 19,
   "id": "24063123-77d2-4970-9191-a6bff4998d82",
   "metadata": {},
   "outputs": [],
   "source": [
    "best_t = sl.NERSC_save('6k_WB_train_loss_10lys_32feat_800e', losses)\n",
    "best_v = sl.NERSC_save('6k_WB_val_loss_10lys_32feat_800e', val_losses)"
   ]
  },
  {
   "cell_type": "markdown",
   "id": "9ea00895-8118-4648-831d-ba949b2f17ae",
   "metadata": {},
   "source": [
    "20 layer and 56/58 feature model runs on GPU\n",
    "\n",
    "\n",
    "20 layer and 60 feature model DOES NOT RUN on "
   ]
  },
  {
   "cell_type": "code",
   "execution_count": null,
   "id": "1b46b2d6-f325-4eb5-9066-b03c4138e80a",
   "metadata": {},
   "outputs": [],
   "source": []
  }
 ],
 "metadata": {
  "kernelspec": {
   "display_name": "pytorch-1.9.0",
   "language": "python",
   "name": "pytorch-1.9.0"
  },
  "language_info": {
   "codemirror_mode": {
    "name": "ipython",
    "version": 3
   },
   "file_extension": ".py",
   "mimetype": "text/x-python",
   "name": "python",
   "nbconvert_exporter": "python",
   "pygments_lexer": "ipython3",
   "version": "3.8.11"
  }
 },
 "nbformat": 4,
 "nbformat_minor": 5
}
