{
 "cells": [
  {
   "cell_type": "code",
   "execution_count": 2,
   "id": "84204fba-489c-433b-8792-86f3c1d01dda",
   "metadata": {
    "tags": []
   },
   "outputs": [
    {
     "ename": "ModuleNotFoundError",
     "evalue": "No module named 'torch'",
     "output_type": "error",
     "traceback": [
      "\u001b[0;31m---------------------------------------------------------------------------\u001b[0m",
      "\u001b[0;31mModuleNotFoundError\u001b[0m                       Traceback (most recent call last)",
      "\u001b[0;32m/tmp/ipykernel_32067/2431429406.py\u001b[0m in \u001b[0;36m<module>\u001b[0;34m\u001b[0m\n\u001b[1;32m      7\u001b[0m \u001b[0;32mimport\u001b[0m \u001b[0mmatplotlib\u001b[0m\u001b[0;34m.\u001b[0m\u001b[0mpyplot\u001b[0m \u001b[0;32mas\u001b[0m \u001b[0mplt\u001b[0m\u001b[0;34m\u001b[0m\u001b[0;34m\u001b[0m\u001b[0m\n\u001b[1;32m      8\u001b[0m \u001b[0;32mimport\u001b[0m \u001b[0mtensorflow\u001b[0m \u001b[0;32mas\u001b[0m \u001b[0mtf\u001b[0m\u001b[0;34m\u001b[0m\u001b[0;34m\u001b[0m\u001b[0m\n\u001b[0;32m----> 9\u001b[0;31m \u001b[0;32mimport\u001b[0m \u001b[0mtorch\u001b[0m\u001b[0;34m\u001b[0m\u001b[0;34m\u001b[0m\u001b[0m\n\u001b[0m\u001b[1;32m     10\u001b[0m \u001b[0;32mfrom\u001b[0m \u001b[0mtorch\u001b[0m\u001b[0;34m.\u001b[0m\u001b[0mutils\u001b[0m\u001b[0;34m.\u001b[0m\u001b[0mdata\u001b[0m \u001b[0;32mimport\u001b[0m \u001b[0mDataLoader\u001b[0m\u001b[0;34m\u001b[0m\u001b[0;34m\u001b[0m\u001b[0m\n\u001b[1;32m     11\u001b[0m \u001b[0;32mfrom\u001b[0m \u001b[0mtorch\u001b[0m\u001b[0;34m.\u001b[0m\u001b[0mutils\u001b[0m\u001b[0;34m.\u001b[0m\u001b[0mdata\u001b[0m \u001b[0;32mimport\u001b[0m \u001b[0mDataset\u001b[0m\u001b[0;34m\u001b[0m\u001b[0;34m\u001b[0m\u001b[0m\n",
      "\u001b[0;31mModuleNotFoundError\u001b[0m: No module named 'torch'"
     ]
    }
   ],
   "source": [
    "from skimage import color\n",
    "from skimage import io\n",
    "import pathlib\n",
    "import os\n",
    "from PIL import Image\n",
    "import numpy as np\n",
    "import matplotlib.pyplot as plt\n",
    "import tensorflow as tf\n",
    "import torch\n",
    "from torch.utils.data import DataLoader\n",
    "from torch.utils.data import Dataset\n",
    "from torchvision import datasets\n",
    "from torchvision.transforms import ToTensor, Lambda, Compose\n",
    "\n",
    "from typing import Any, Callable, Sequence, Optional\n",
    "\n",
    "import pathlib\n",
    "import os\n",
    "\n",
    "import pandas as pd\n",
    "from torchvision.io import read_image\n",
    "\n",
    "device = \"cuda\" if torch.cuda.is_available() else \"cpu\"\n",
    "print(f\"Using {device} device\")\n",
    "\n",
    "\n",
    "\n",
    "# This gets the path as a variable\n",
    "# MAKE SURE YOU ARE IN SCRATCH OR PSCRATCH\n",
    "current_dir = pathlib.Path().resolve()\n",
    "print(current_dir)\n",
    "pd_train_path = current_dir / 'Data' / 'BSDS300' / 'train' \n",
    "pd_test_path = current_dir / 'Data' / 'BSDS300' / 'test'\n",
    "assert pd_train_path.exists()\n",
    "assert pd_test_path.exists()\n"
   ]
  },
  {
   "cell_type": "code",
   "execution_count": null,
   "id": "3abd5ac3-1957-44c0-8866-91d3abd2003f",
   "metadata": {},
   "outputs": [],
   "source": [
    "import glob\n",
    "# but glob.glob didn't register the path var, so had to type it all out\n",
    "train_filelist = glob.glob(str(pd_train_path / '*.jpg'))\n",
    "test_filelist = glob.glob(str(pd_test_path /'*.jpg'))\n",
    "\n",
    "clean_train_img = tf.io.read_file(train_filelist[0])\n"
   ]
  },
  {
   "cell_type": "code",
   "execution_count": null,
   "id": "a8abc956-5c6c-42ee-9281-2bfa40b3738e",
   "metadata": {},
   "outputs": [],
   "source": [
    "@tf.function\n",
    "def load_image(filename):\n",
    "    raw = tf.io.read_file(filename)\n",
    "    image = tf.image.decode_jpeg(raw, channels=3)\n",
    "    # the `print` executes during tracing.\n",
    "    print(\"Initial shape: \", image.shape)\n",
    "    image.set_shape([28, 28, 3])\n",
    "    print(\"Final shape: \", image.shape)\n",
    "    return image"
   ]
  },
  {
   "cell_type": "code",
   "execution_count": null,
   "id": "ab8a9d27-f4c2-4f9b-909e-a1c20877ec33",
   "metadata": {},
   "outputs": [],
   "source": [
    "load_image(train_filelist[0])"
   ]
  },
  {
   "cell_type": "markdown",
   "id": "b6a3810f-2e49-46b4-afad-7998f2713e99",
   "metadata": {},
   "source": [
    "This code was found [here](https://stackoverflow.com/questions/39195113/how-to-load-multiple-images-in-a-numpy-array)"
   ]
  },
  {
   "cell_type": "code",
   "execution_count": null,
   "id": "e26400c9-a56c-491d-b639-69c49ae51686",
   "metadata": {},
   "outputs": [],
   "source": [
    "import glob\n",
    "# but glob.glob didn't register the path var, so had to type it all out\n",
    "train_filelist = glob.glob('/pscratch/sd/m/mdowicz/DESI_dn/Data/BSDS300/train/*.jpg')\n",
    "test_filelist = glob.glob('/pscratch/sd/m/mdowicz/DESI_dn/Data/BSDS300/test/*.jpg')\n",
    "\n",
    "# This creates a numpy array of the images but has shape (num_samp,) and then [0].shape = (width, height, channels)\n",
    "pd_train = np.array([np.array(Image.open(fname)) for fname in train_filelist], dtype=object)\n",
    "pd_test = np.array([np.array(Image.open(fname)) for fname in test_filelist], dtype=object)\n",
    "\n",
    "# pd_train_list = glob.glob(pd_train_path / '*.jpg')\n",
    "# pd_test_list = glob.glob(pd_test_path / '*.jpg')\n",
    "\n",
    "# pd_train = np.array([np.array(Image.open(fname)) for fname in pd_train_list])\n",
    "# pd_test = np.array([np.array(Image.open(fname)) for fname in pd_test_list])\n"
   ]
  },
  {
   "cell_type": "code",
   "execution_count": null,
   "id": "7811d01a-711a-4a55-b758-550e3c8709a1",
   "metadata": {},
   "outputs": [],
   "source": [
    "pd_train[0].shape"
   ]
  },
  {
   "cell_type": "code",
   "execution_count": null,
   "id": "98ca1936-c17d-4eba-980f-757ce650bba6",
   "metadata": {},
   "outputs": [],
   "source": [
    "idx = 9\n",
    "plt.imshow(pd_test[idx], interpolation='none')\n",
    "plt.axis('off')\n",
    "print(pd_test[idx].shape)"
   ]
  },
  {
   "cell_type": "code",
   "execution_count": null,
   "id": "9587b12a-2ca4-4dac-85ca-b1c0a7aa3570",
   "metadata": {},
   "outputs": [],
   "source": [
    "class Paper_Dataset(object):\n",
    "    def __init__(self, images_dir, patch_size, gaussian_noise_level, seed=1234):\n",
    "        # self.image_files = sorted(glob.glob(images_dir + '/*'))\n",
    "        self.image_files = sorted(glob.glob(images_dir))\n",
    "        self.patch_size = patch_size\n",
    "        self.gaussian_noise_level = gaussian_noise_level\n",
    "        self.seed = seed\n",
    "\n",
    "    def __len__(self):\n",
    "        return len(self.image_files)\n",
    "\n",
    "    def __getitem__(self, idx):\n",
    "        clean_image = tf.io.read_file(self.image_files[idx])\n",
    "        clean_image = tf.image.decode_jpeg(clean_image, channel=3)\n",
    "        clean_image = pil_image.fromarray(clean_image.numpy())\n",
    "        \n",
    "        # randomly crop patch from training set\n",
    "        crop_x = random.randint(0, clean_image.width - self.patch_size)\n",
    "        crop_y = random.randint(0, clean_image.height - self.patch_size)\n",
    "        clean_image = clean_image.crop((crop_x, crop_y, crop_x + self.patch_size, crop_y + self.patch_size))\n",
    "        \n",
    "        noisy_image = clean_image.copy()\n",
    "        gaussian_noise = np.zeros((clean_image.height, clean_image.width, 3), dtype=np.float32)\n",
    "        \n",
    "        # additive gaussian noise\n",
    "        if self.gaussian_noise_level is not None:\n",
    "            if len(self.gaussian_noise_level) == 1:\n",
    "                sigma = self.gaussian_noise_level[0]\n",
    "            else:\n",
    "                sigma = random.randint(self.gaussian_noise_level[0], self.gaussian_noise_level[1])\n",
    "            gaussian_noise += np.random.normal(0.0, sigma, (clean_image.height, clean_image.width, 3)).astype(np.float32)\n",
    "            \n",
    "            \n",
    "        clean_image = np.array(clean_image).astype(np.float32)\n",
    "        noisy_image = np.array(noisy_image).astype(np.float32)\n",
    "        noisy_image += gaussian_noise\n",
    "        \n",
    "        \n",
    "        d_input = np.transpose(noisy_image, axes=[2, 0, 1])\n",
    "        labels = np.transpose(clean_image, axes=[2, 0, 1])\n",
    "        \n",
    "        \n",
    "        # normalization\n",
    "        d_input /= 255.0\n",
    "        label /= 255.0\n",
    "        \n",
    "        return d_input, label\n",
    "        "
   ]
  },
  {
   "cell_type": "code",
   "execution_count": 3,
   "id": "b42623b0-5715-4505-8f80-2d4e20e0f7e7",
   "metadata": {},
   "outputs": [
    {
     "ename": "NameError",
     "evalue": "name 'Paper_Dataset' is not defined",
     "output_type": "error",
     "traceback": [
      "\u001b[0;31m---------------------------------------------------------------------------\u001b[0m",
      "\u001b[0;31mNameError\u001b[0m                                 Traceback (most recent call last)",
      "\u001b[0;32m/tmp/ipykernel_32067/3598821617.py\u001b[0m in \u001b[0;36m<module>\u001b[0;34m\u001b[0m\n\u001b[0;32m----> 1\u001b[0;31m \u001b[0mtrain_paper\u001b[0m \u001b[0;34m=\u001b[0m \u001b[0mPaper_Dataset\u001b[0m\u001b[0;34m(\u001b[0m\u001b[0mstr\u001b[0m\u001b[0;34m(\u001b[0m\u001b[0mpd_train_path\u001b[0m\u001b[0;34m)\u001b[0m\u001b[0;34m,\u001b[0m \u001b[0mpatch_size\u001b[0m\u001b[0;34m=\u001b[0m\u001b[0;36m50\u001b[0m\u001b[0;34m,\u001b[0m \u001b[0mgaussian_noise_level\u001b[0m \u001b[0;34m=\u001b[0m \u001b[0;34m[\u001b[0m\u001b[0;36m0\u001b[0m\u001b[0;34m,\u001b[0m \u001b[0;36m55\u001b[0m\u001b[0;34m]\u001b[0m\u001b[0;34m)\u001b[0m\u001b[0;34m\u001b[0m\u001b[0;34m\u001b[0m\u001b[0m\n\u001b[0m",
      "\u001b[0;31mNameError\u001b[0m: name 'Paper_Dataset' is not defined"
     ]
    }
   ],
   "source": [
    "train_paper = Paper_Dataset(str(pd_train_path), patch_size=50, gaussian_noise_level = [0, 55])"
   ]
  },
  {
   "cell_type": "code",
   "execution_count": 4,
   "id": "3daefdfc-a9d7-4acf-b128-524ad0e3002b",
   "metadata": {},
   "outputs": [
    {
     "ename": "NameError",
     "evalue": "name 'DataLoader' is not defined",
     "output_type": "error",
     "traceback": [
      "\u001b[0;31m---------------------------------------------------------------------------\u001b[0m",
      "\u001b[0;31mNameError\u001b[0m                                 Traceback (most recent call last)",
      "\u001b[0;32m/tmp/ipykernel_32067/2190882561.py\u001b[0m in \u001b[0;36m<module>\u001b[0;34m\u001b[0m\n\u001b[0;32m----> 1\u001b[0;31m \u001b[0mp_train_dataloader\u001b[0m \u001b[0;34m=\u001b[0m \u001b[0mDataLoader\u001b[0m\u001b[0;34m(\u001b[0m\u001b[0mtrain_paper\u001b[0m\u001b[0;34m,\u001b[0m \u001b[0mbatch_size\u001b[0m\u001b[0;34m=\u001b[0m\u001b[0;36m64\u001b[0m\u001b[0;34m,\u001b[0m \u001b[0mshuffle\u001b[0m\u001b[0;34m=\u001b[0m\u001b[0;32mTrue\u001b[0m\u001b[0;34m)\u001b[0m\u001b[0;34m\u001b[0m\u001b[0;34m\u001b[0m\u001b[0m\n\u001b[0m",
      "\u001b[0;31mNameError\u001b[0m: name 'DataLoader' is not defined"
     ]
    }
   ],
   "source": [
    "p_train_dataloader = DataLoader(train_paper, batch_size=64, shuffle=True)\n"
   ]
  },
  {
   "cell_type": "code",
   "execution_count": null,
   "id": "6ec3140a-7a78-4f77-8e8e-4a2b197c7300",
   "metadata": {},
   "outputs": [],
   "source": [
    "img_dataset = Img_Dataset(training_data, patch_size=50)\n",
    "train_dataloader = DataLoader(img_dataset, batch_size=64, shuffle=True)\n",
    "\n",
    "train_features, train_labels = next(iter(train_dataloader))\n",
    "print(f\"Feature batch shape: {train_features.size()}\")\n",
    "print(f\"Labels batch shape: {train_labels.size()}\")"
   ]
  },
  {
   "cell_type": "code",
   "execution_count": null,
   "id": "ad30911c-708e-41d8-b4cb-117b251efb1e",
   "metadata": {},
   "outputs": [],
   "source": [
    "img = train_features[0][0].squeeze()\n",
    "imgs = train_features.cpu().detach().numpy()\n",
    "plt.imshow(imgs[0], cmap=\"gray\")"
   ]
  },
  {
   "cell_type": "code",
   "execution_count": null,
   "id": "fff3c814-2618-4fbf-a36d-d48e779aedbf",
   "metadata": {},
   "outputs": [],
   "source": [
    "def pair_show(dataloader, igen):\n",
    "    \"\"\"\n",
    "    Plot to compare a training sample and its residual noise image\n",
    "    \n",
    "    Parameters\n",
    "    ----------\n",
    "    igen : int\n",
    "           Index of specific sample of interest\n",
    "    \"\"\"\n",
    "    \n",
    "    train_features, train_labels = next(iter(train_dataloader))\n",
    "    train_features = train_features.cpu().detach().numpy()\n",
    "    train_labels = train_labels.cpu().detach().numpy()\n",
    "    fig, ax = plt.subplots(1, 2, figsize=(8,4))\n",
    "    ax[0].imshow(train_features[igen], origin='lower', interpolation='none')\n",
    "    ax[0].axis('off')\n",
    "    ax[0].set_title('Noisy Sample')\n",
    "    ax[1].imshow(train_labels[igen], origin='lower', interpolation='none')\n",
    "    ax[1].axis('off')\n",
    "    ax[1].set_title('Clean Sample')"
   ]
  },
  {
   "cell_type": "code",
   "execution_count": null,
   "id": "c0cbf211-d1dd-4b91-a896-f976572a202b",
   "metadata": {},
   "outputs": [],
   "source": [
    "pair_show(train_dataloader, 10)"
   ]
  },
  {
   "cell_type": "markdown",
   "id": "fb81868c-96d4-48d5-af27-d7034beaad79",
   "metadata": {
    "tags": []
   },
   "source": [
    "# Old code"
   ]
  },
  {
   "cell_type": "markdown",
   "id": "1b906227-3ccc-42c5-bab8-bbba951a8d20",
   "metadata": {},
   "source": [
    "This code was found [here](https://stackoverflow.com/questions/26392336/importing-images-from-a-directory-python-to-list-or-dictionary)"
   ]
  },
  {
   "cell_type": "code",
   "execution_count": null,
   "id": "19c528a6-5823-47a5-962b-9e2ec70fd120",
   "metadata": {},
   "outputs": [],
   "source": [
    "# # This loads a directory of images\n",
    "\n",
    "# def load_jpg_dir(path):\n",
    "#     imgs = []\n",
    "#     path = path\n",
    "#     valid_images = [\".jpg\", \".gif\", \".png\", \".tga\"]\n",
    "#     for f in os.listdir(path):\n",
    "#         ext = os.path.splitext(f)[1]\n",
    "#         if ext.lower() not in valid_images:\n",
    "#             continue\n",
    "#         imgs.append(Image.open(os.path.join(path,f)))\n",
    "        \n",
    "#     for i in range(len(imgs)):\n",
    "        \n",
    "        \n",
    "        \n",
    "#     return imgs"
   ]
  },
  {
   "cell_type": "markdown",
   "id": "c40bfab8-148a-417c-a858-67066e0155b6",
   "metadata": {},
   "source": [
    "Code below was found somewhere else, but lost the tab"
   ]
  },
  {
   "cell_type": "code",
   "execution_count": null,
   "id": "ed8d81dc-e5fd-42c3-a9b7-0ae42c490254",
   "metadata": {},
   "outputs": [],
   "source": [
    "# from PIL import Image\n",
    "# import numpy as np\n",
    "\n",
    "\n",
    "# # This loads a file into np, but its eh\n",
    "# # The first bit of code works well enough....\n",
    "\n",
    "# def load_image( infilename ) :\n",
    "#     img = Image.open( infilename )\n",
    "#     img.load()\n",
    "#     data = np.asarray( img, dtype=\"int32\" )\n",
    "#     return data\n",
    "\n",
    "# def save_image( npdata, outfilename ) :\n",
    "#     img = Image.fromarray( np.asarray( np.clip(npdata,0,255), dtype=\"uint8\"), \"L\" )\n",
    "#     img.save( outfilename )"
   ]
  },
  {
   "cell_type": "code",
   "execution_count": null,
   "id": "f5cbc3a5-ad3b-4c79-85af-2610de455135",
   "metadata": {},
   "outputs": [],
   "source": [
    "# pd_train = load_jpg_dir(pd_train_path)\n",
    "# pd_test = load_jpg_dir(pd_test_path)\n",
    "\n",
    "# q = np.asarray(pd_train[0].load(), dtype=\"int32\")\n",
    "# # pd_train = np.asarray(pd_train, dtype=np.float32)\n",
    "# # pd_test = np.asarray(pd_test)"
   ]
  }
 ],
 "metadata": {
  "kernelspec": {
   "display_name": "jax-test",
   "language": "python",
   "name": "jax-test"
  },
  "language_info": {
   "codemirror_mode": {
    "name": "ipython",
    "version": 3
   },
   "file_extension": ".py",
   "mimetype": "text/x-python",
   "name": "python",
   "nbconvert_exporter": "python",
   "pygments_lexer": "ipython3",
   "version": "3.9.9"
  }
 },
 "nbformat": 4,
 "nbformat_minor": 5
}
