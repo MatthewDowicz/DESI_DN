{
 "cells": [
  {
   "cell_type": "code",
   "execution_count": 21,
   "id": "a555d761-6816-4aff-8513-bbb47a72d039",
   "metadata": {},
   "outputs": [],
   "source": [
    "# import save_load as sl\n",
    "# import preprocess_data as ppd\n",
    "import torch\n",
    "from torch import nn\n",
    "from torch.utils.data import DataLoader\n",
    "# from model import DnCNN\n",
    "# from Dataset import Img_Dataset\n",
    "import numpy as np \n",
    "import pathlib\n",
    "\n",
    "# Importing utitility functions for training\n",
    "from PT_files.model import DnCNN, DnCNN_B\n",
    "from PT_files.Dataset import Img_Dataset, Large_Img_Dataset\n",
    "import PT_files.preprocess_data as ppd\n",
    "import PT_files.save_load as sl\n",
    "import matplotlib.pyplot as plt\n",
    "\n",
    "# device = \"cuda\" if torch.cuda.is_available() else \"cpu\"\n",
    "device = \"cpu\""
   ]
  },
  {
   "cell_type": "code",
   "execution_count": 22,
   "id": "b9e4dde8-7d74-4fe7-bda1-5683ee3aa2f5",
   "metadata": {},
   "outputs": [],
   "source": [
    "data_6k = sl.NERSC_load('test_data70-6000.npy')"
   ]
  },
  {
   "cell_type": "markdown",
   "id": "2a52c45f-e550-441c-b26d-69491b2bbf15",
   "metadata": {},
   "source": [
    "Function that uses 2k by 2k slices"
   ]
  },
  {
   "cell_type": "code",
   "execution_count": 23,
   "id": "29e16367-c4b9-4f48-a629-2c57b7f392f6",
   "metadata": {},
   "outputs": [],
   "source": [
    "def full_grid_pass_window(dataset,\n",
    "                   model,\n",
    "                   samp_idx,\n",
    "                   h_start,\n",
    "                   h_end,\n",
    "                   w_start,\n",
    "                   w_end):\n",
    "    \n",
    "    \"\"\"\n",
    "    Conducts denoising in 2000x2000 sub-image slices of the whole \n",
    "    6000x6000 focal plane image. It implements the first of three\n",
    "    passes of the image. It implements 9 inferences over the whole\n",
    "    focal plane image and covers the entire image.\n",
    "    \n",
    "\n",
    "    Parameters:\n",
    "    -----------\n",
    "    \n",
    "    dataset: np.array\n",
    "        Should be a 5-D array of:\n",
    "        \n",
    "        dataset.shape = (dataset, number of samples, channel number,\n",
    "                         number of pixels in height, number of pixels in width)\n",
    "    \n",
    "    model: pytorch model\n",
    "        Should be DnCNN or DnCNN-B as proposed as in Zheng et al. 2017\n",
    "        \n",
    "    samp_idx: int\n",
    "        Specific sample from test set that you want inference ran on.\n",
    "    \n",
    "    w_start: int\n",
    "        Starting index of the width of the subimage window\n",
    "        \n",
    "    w_end: int\n",
    "        Ending index of the width of the subimage window\n",
    "        \n",
    "    h_start: int\n",
    "        Starting index of the height of the subimage window\n",
    "        \n",
    "    h_end: int\n",
    "        Ending index of the height of the subimage window  \n",
    "        \n",
    "    Returns:\n",
    "    --------\n",
    "    \n",
    "    full: np.array\n",
    "        A (6000, 6000) array that contains all 9 of the (2000x2000) \n",
    "        sub-images combined together\n",
    "        \n",
    "        \n",
    "    count: np.array\n",
    "        An array that counts how many times an individual pixel has had\n",
    "        a denoising window applied to it. This will be used to average\n",
    "        over the pixels that are denoised multiple times.\n",
    "    \"\"\"\n",
    "    \n",
    "    full = np.empty((1, 1, 6000,6000))\n",
    "    count = np.empty((1, 1, 6000,6000))\n",
    "    \n",
    "    noise_data = dataset[0]\n",
    "    param_name = \"2k_model_bs64_e200.pth\"\n",
    "    \n",
    "    current_dir = pathlib.Path().resolve()\n",
    "    model_params_path = current_dir / 'Model_params'\n",
    "    assert model_params_path.exists()\n",
    "    model_path = model_params_path / param_name\n",
    "    \n",
    "    model = model()\n",
    "    model.to(device)\n",
    "    model.load_state_dict(torch.load(str(model_path)))\n",
    "    model.eval();\n",
    "    # telling pytorch this is for inference and not learning, so keeps the weights unchanged\n",
    "    with torch.no_grad():\n",
    "        \n",
    "        torch.cuda.empty_cache()\n",
    "        test_noise = torch.as_tensor(noise_data[samp_idx:samp_idx+1,:, w_start:w_end, h_start:h_end])\n",
    "        test_noise = test_noise.to(device)\n",
    "\n",
    "        output = model(test_noise)\n",
    "        resid_img = output.to('cpu').detach().numpy()\n",
    "        \n",
    "        full[:, :, h_start:h_end, w_start:w_end] += resid_img\n",
    "        count[:, :, h_start:h_end, w_start:w_end] += 1\n",
    "        \n",
    "    return full, count"
   ]
  },
  {
   "cell_type": "code",
   "execution_count": 29,
   "id": "097dfb61-14e9-48fa-9167-c6a675cd2bac",
   "metadata": {},
   "outputs": [
    {
     "ename": "ValueError",
     "evalue": "operands could not be broadcast together with shapes (1,1,2000,2000) (2,1,1,6000,6000) (1,1,2000,2000) ",
     "output_type": "error",
     "traceback": [
      "\u001b[0;31m---------------------------------------------------------------------------\u001b[0m",
      "\u001b[0;31mValueError\u001b[0m                                Traceback (most recent call last)",
      "\u001b[0;32m/tmp/ipykernel_16889/449219256.py\u001b[0m in \u001b[0;36m<module>\u001b[0;34m\u001b[0m\n\u001b[1;32m      3\u001b[0m \u001b[0mcount1\u001b[0m \u001b[0;34m=\u001b[0m \u001b[0mnp\u001b[0m\u001b[0;34m.\u001b[0m\u001b[0mempty\u001b[0m\u001b[0;34m(\u001b[0m\u001b[0;34m(\u001b[0m\u001b[0;36m1\u001b[0m\u001b[0;34m,\u001b[0m \u001b[0;36m1\u001b[0m\u001b[0;34m,\u001b[0m \u001b[0;36m6000\u001b[0m\u001b[0;34m,\u001b[0m \u001b[0;36m6000\u001b[0m\u001b[0;34m)\u001b[0m\u001b[0;34m)\u001b[0m\u001b[0;34m\u001b[0m\u001b[0;34m\u001b[0m\u001b[0m\n\u001b[1;32m      4\u001b[0m \u001b[0;32mfor\u001b[0m \u001b[0mi\u001b[0m \u001b[0;32min\u001b[0m \u001b[0mrange\u001b[0m\u001b[0;34m(\u001b[0m\u001b[0mlen\u001b[0m\u001b[0;34m(\u001b[0m\u001b[0mslice_list\u001b[0m\u001b[0;34m)\u001b[0m\u001b[0;34m)\u001b[0m\u001b[0;34m:\u001b[0m\u001b[0;34m\u001b[0m\u001b[0;34m\u001b[0m\u001b[0m\n\u001b[0;32m----> 5\u001b[0;31m     full1[:,:, 0:2000, 0:slice_list[i]]+= full_grid_pass_window(dataset=data_6k,\n\u001b[0m\u001b[1;32m      6\u001b[0m                                      \u001b[0mmodel\u001b[0m\u001b[0;34m=\u001b[0m \u001b[0mDnCNN\u001b[0m\u001b[0;34m,\u001b[0m\u001b[0;34m\u001b[0m\u001b[0;34m\u001b[0m\u001b[0m\n\u001b[1;32m      7\u001b[0m                                      \u001b[0msamp_idx\u001b[0m\u001b[0;34m=\u001b[0m\u001b[0;36m0\u001b[0m\u001b[0;34m,\u001b[0m\u001b[0;34m\u001b[0m\u001b[0;34m\u001b[0m\u001b[0m\n",
      "\u001b[0;31mValueError\u001b[0m: operands could not be broadcast together with shapes (1,1,2000,2000) (2,1,1,6000,6000) (1,1,2000,2000) "
     ]
    }
   ],
   "source": [
    "slice_list = [2000, 4000, 6000]\n",
    "full1 = np.empty((1, 1, 6000, 6000))\n",
    "count1 = np.empty((1, 1, 6000, 6000))\n",
    "for i in range(len(slice_list)):\n",
    "    full1[:,:, 0:2000, 0:slice_list[i]]+= full_grid_pass_window(dataset=data_6k,\n",
    "                                     model= DnCNN,\n",
    "                                     samp_idx=0,\n",
    "                                     w_start=0,\n",
    "                                     w_end=slice_list[i],\n",
    "                                     h_start=0,\n",
    "                                     h_end=2000)\n"
   ]
  },
  {
   "cell_type": "code",
   "execution_count": 20,
   "id": "9c482679-62df-46c3-9148-6d60e50fedf9",
   "metadata": {},
   "outputs": [
    {
     "ename": "ValueError",
     "evalue": "operands could not be broadcast together with shapes (1,1,2000,4000) (1,1,4000,2000) (1,1,2000,4000) ",
     "output_type": "error",
     "traceback": [
      "\u001b[0;31m---------------------------------------------------------------------------\u001b[0m",
      "\u001b[0;31mValueError\u001b[0m                                Traceback (most recent call last)",
      "\u001b[0;32m/tmp/ipykernel_16889/271091245.py\u001b[0m in \u001b[0;36m<module>\u001b[0;34m\u001b[0m\n\u001b[1;32m      2\u001b[0m \u001b[0;34m\u001b[0m\u001b[0m\n\u001b[1;32m      3\u001b[0m \u001b[0;32mfor\u001b[0m \u001b[0mi\u001b[0m \u001b[0;32min\u001b[0m \u001b[0mrange\u001b[0m\u001b[0;34m(\u001b[0m\u001b[0mlen\u001b[0m\u001b[0;34m(\u001b[0m\u001b[0mslice_list\u001b[0m\u001b[0;34m)\u001b[0m\u001b[0;34m)\u001b[0m\u001b[0;34m:\u001b[0m\u001b[0;34m\u001b[0m\u001b[0;34m\u001b[0m\u001b[0m\n\u001b[0;32m----> 4\u001b[0;31m     full1, count1 = full_grid_pass_window(dataset=data_6k,\n\u001b[0m\u001b[1;32m      5\u001b[0m                                      \u001b[0mmodel\u001b[0m\u001b[0;34m=\u001b[0m \u001b[0mDnCNN\u001b[0m\u001b[0;34m,\u001b[0m\u001b[0;34m\u001b[0m\u001b[0;34m\u001b[0m\u001b[0m\n\u001b[1;32m      6\u001b[0m                                      \u001b[0msamp_idx\u001b[0m\u001b[0;34m=\u001b[0m\u001b[0;36m0\u001b[0m\u001b[0;34m,\u001b[0m\u001b[0;34m\u001b[0m\u001b[0;34m\u001b[0m\u001b[0m\n",
      "\u001b[0;32m/tmp/ipykernel_16889/3033433417.py\u001b[0m in \u001b[0;36mfull_grid_pass_window\u001b[0;34m(dataset, model, samp_idx, h_start, h_end, w_start, w_end)\u001b[0m\n\u001b[1;32m     80\u001b[0m         \u001b[0mresid_img\u001b[0m \u001b[0;34m=\u001b[0m \u001b[0moutput\u001b[0m\u001b[0;34m.\u001b[0m\u001b[0mto\u001b[0m\u001b[0;34m(\u001b[0m\u001b[0;34m'cpu'\u001b[0m\u001b[0;34m)\u001b[0m\u001b[0;34m.\u001b[0m\u001b[0mdetach\u001b[0m\u001b[0;34m(\u001b[0m\u001b[0;34m)\u001b[0m\u001b[0;34m.\u001b[0m\u001b[0mnumpy\u001b[0m\u001b[0;34m(\u001b[0m\u001b[0;34m)\u001b[0m\u001b[0;34m\u001b[0m\u001b[0;34m\u001b[0m\u001b[0m\n\u001b[1;32m     81\u001b[0m \u001b[0;34m\u001b[0m\u001b[0m\n\u001b[0;32m---> 82\u001b[0;31m         \u001b[0mfull\u001b[0m\u001b[0;34m[\u001b[0m\u001b[0;34m:\u001b[0m\u001b[0;34m,\u001b[0m \u001b[0;34m:\u001b[0m\u001b[0;34m,\u001b[0m \u001b[0mh_start\u001b[0m\u001b[0;34m:\u001b[0m\u001b[0mh_end\u001b[0m\u001b[0;34m,\u001b[0m \u001b[0mw_start\u001b[0m\u001b[0;34m:\u001b[0m\u001b[0mw_end\u001b[0m\u001b[0;34m]\u001b[0m \u001b[0;34m+=\u001b[0m \u001b[0mresid_img\u001b[0m\u001b[0;34m\u001b[0m\u001b[0;34m\u001b[0m\u001b[0m\n\u001b[0m\u001b[1;32m     83\u001b[0m         \u001b[0mcount\u001b[0m\u001b[0;34m[\u001b[0m\u001b[0;34m:\u001b[0m\u001b[0;34m,\u001b[0m \u001b[0;34m:\u001b[0m\u001b[0;34m,\u001b[0m \u001b[0mh_start\u001b[0m\u001b[0;34m:\u001b[0m\u001b[0mh_end\u001b[0m\u001b[0;34m,\u001b[0m \u001b[0mw_start\u001b[0m\u001b[0;34m:\u001b[0m\u001b[0mw_end\u001b[0m\u001b[0;34m]\u001b[0m \u001b[0;34m+=\u001b[0m \u001b[0;36m1\u001b[0m\u001b[0;34m\u001b[0m\u001b[0;34m\u001b[0m\u001b[0m\n\u001b[1;32m     84\u001b[0m \u001b[0;34m\u001b[0m\u001b[0m\n",
      "\u001b[0;31mValueError\u001b[0m: operands could not be broadcast together with shapes (1,1,2000,4000) (1,1,4000,2000) (1,1,2000,4000) "
     ]
    }
   ],
   "source": [
    "slice_list = [2000, 4000, 6000]\n",
    "    \n",
    "for i in range(len(slice_list)):\n",
    "    full1, count1 = full_grid_pass_window(dataset=data_6k,\n",
    "                                     model= DnCNN,\n",
    "                                     samp_idx=0,\n",
    "                                     w_start=0,\n",
    "                                     w_end=slice_list[i],\n",
    "                                     h_start=0,\n",
    "                                     h_end=2000)\n",
    "\n",
    "for j in range(len(slice_list)):\n",
    "    full2, count2 = full_grid_pass_window(dataset=data_6k,\n",
    "                                     model= DnCNN,\n",
    "                                     samp_idx=0,\n",
    "                                     w_start=0,\n",
    "                                     w_end=slice_list[j],\n",
    "                                     h_start=0,\n",
    "                                     h_end=4000)\n",
    "\n",
    "for k in range(len(slice_list)):\n",
    "    full3, count3 = full_grid_pass_window(dataset=data_6k,\n",
    "                                     model=DnCNN,\n",
    "                                     samp_idx=0,\n",
    "                                     w_start=0,\n",
    "                                     w_end=slice_list[k],\n",
    "                                     h_start=0,\n",
    "                                     h_end=6000)\n",
    "\n",
    "full = full1 + full2 + full3"
   ]
  },
  {
   "cell_type": "code",
   "execution_count": null,
   "id": "b9808301-0772-4d10-a958-5bb64e12f673",
   "metadata": {},
   "outputs": [],
   "source": [
    "fig, ax = plt.subplots(1, 2, figsize=(24,20))\n",
    "vmin, vmax = np.percentile(data_6k[0][0][0], (1,99))\n",
    "\n",
    "ax[0].imshow(data_6k[0][0][0], vmin=vmin, vmax=vmax, origin='lower', interpolation='none')\n",
    "ax[0].axis('off')\n",
    "ax[0].set_title('Noisy Sample')\n",
    "ax[1].imshow(full[0][0], vmin=vmin, vmax=vmax, origin='lower', interpolation='none')\n",
    "ax[1].axis('off')\n",
    "ax[1].set_title('Denoised Sample')"
   ]
  },
  {
   "cell_type": "code",
   "execution_count": null,
   "id": "1476b378-b4aa-4292-a967-df71b7e4c04c",
   "metadata": {},
   "outputs": [],
   "source": [
    "fig, ax = plt.subplots(1, 3, figsize=(24,20))\n",
    "vmin, vmax = np.percentile(data_6k[0][0][0][2200:2400,1000:1200], (1,99))\n",
    "\n",
    "\n",
    "ax[0].imshow(data_6k[0][0][0][2200:2400,1000:1200], vmin=vmin, vmax=vmax, origin='lower', interpolation='none')\n",
    "ax[0].axis('off')\n",
    "ax[0].set_title('Noisy Sample', fontsize=30)\n",
    "ax[1].imshow(full[0][0][2200:2400,1000:1200],vmin=vmin, vmax=vmax, origin='lower', interpolation='none')\n",
    "ax[1].axis('off')\n",
    "ax[1].set_title('Denoised Sample', fontsize=30)\n",
    "ax[2].imshow(data_6k[1][0][0][2200:2400,1000:1200], vmin=vmin, vmax=vmax, origin='lower', interpolation='none')\n",
    "ax[2].axis('off')\n",
    "ax[2].set_title('Truth Sample', fontsize=30)"
   ]
  },
  {
   "cell_type": "code",
   "execution_count": 5,
   "id": "2b0585e8-f976-4aaf-ad2b-46549b899cd5",
   "metadata": {},
   "outputs": [],
   "source": [
    "full, count = full_grid_pass_window(dataset=data_6k,\n",
    "                             model= DnCNN,\n",
    "                             samp_idx=0,\n",
    "                             w_start=0,\n",
    "                             w_end=2000,\n",
    "                             h_start=0,\n",
    "                             h_end=2000)"
   ]
  },
  {
   "cell_type": "code",
   "execution_count": 6,
   "id": "931dc156-53b8-450f-b878-6f76f7196ecf",
   "metadata": {},
   "outputs": [
    {
     "data": {
      "text/plain": [
       "<matplotlib.image.AxesImage at 0x7f9ac04112b0>"
      ]
     },
     "execution_count": 6,
     "metadata": {},
     "output_type": "execute_result"
    },
    {
     "data": {
      "image/png": "[encoded data removed]",
      "text/plain": [
       "<Figure size 432x288 with 1 Axes>"
      ]
     },
     "metadata": {
      "needs_background": "light"
     },
     "output_type": "display_data"
    }
   ],
   "source": [
    "plt.imshow(data_6k[0][0][0][:,:])\n",
    "plt.imshow(data_6k[0][0][0][0:2000,0:2000])\n",
    "plt.imshow(full[0][0][:, :])"
   ]
  },
  {
   "cell_type": "code",
   "execution_count": 6,
   "id": "60c089a3-ef21-4679-84e6-4dbd4a4e3a3e",
   "metadata": {},
   "outputs": [],
   "source": [
    "# def full_grid_pass(dataset,\n",
    "#                    model,\n",
    "#                    samp_idx):\n",
    "    \n",
    "#     slice_list = [2000, 4000, 6000]\n",
    "    \n",
    "#     for i in range(slice_list):\n",
    "#         for j in range(slice_list):\n",
    "#             full, count = full_grid_pass_window(dataset=data_6k,\n",
    "#                                      model= DnCNN,\n",
    "#                                      samp_idx=0,\n",
    "#                                      w_start=0,\n",
    "#                                      w_end=slice_list[j],\n",
    "#                                      h_start=0,\n",
    "#                                      h_end=slice_list[i])"
   ]
  },
  {
   "cell_type": "code",
   "execution_count": 15,
   "id": "4643581b-a9cb-4399-bfdf-91ff08450077",
   "metadata": {},
   "outputs": [],
   "source": [
    "# def full_grid_pass(dataset,\n",
    "#                    model,\n",
    "#                    samp_idx):\n",
    "    \n",
    "#     slice_list = [2000, 4000, 6000]\n",
    "#     final_full = np.empty((1, 1, 6000,6000))\n",
    "#     final_count = np.empty((1, 1, 6000,6000))\n",
    "    \n",
    "#     for i in range(len(slice_list)):\n",
    "#         for j in range(len(slice_list)):\n",
    "#             full, count = full_grid_pass_window(dataset=data_6k,\n",
    "#                                      model= DnCNN,\n",
    "#                                      samp_idx=0,\n",
    "#                                      h_start=0,\n",
    "#                                      h_end=slice_list[i],\n",
    "#                                      w_start=0,\n",
    "#                                      w_end=slice_list[j])\n",
    "            \n",
    "#             final_full[:, :, 0:slice_list[i], 0:slice_list[j]] += full\n",
    "#             final_count[:, :, 0:slice_list[i], 0:slice_list[j]] += 1\n",
    "            \n",
    "#     return final_full, final_count\n",
    "\n",
    "\n",
    "\n",
    "def full_grid_pass(dataset,\n",
    "                   model,\n",
    "                   samp_idx):\n",
    "    \n",
    "    slice_list = [0, 2000, 4000, 6000]\n",
    "    final_full = np.empty((1, 1, 6000,6000))\n",
    "    final_count = np.empty((1, 1, 6000,6000))\n",
    "    \n",
    "    for i in range(3):\n",
    "        for j in range(3):\n",
    "            full, count = full_grid_pass_window(dataset=data_6k,\n",
    "                                     model= DnCNN,\n",
    "                                     samp_idx=0,\n",
    "                                     h_start=slice_list[i],\n",
    "                                     h_end=slice_list[i+1],\n",
    "                                     w_start=slice_list[j],\n",
    "                                     w_end=slice_list[j+1])\n",
    "            \n",
    "            final_full[:, :, slice_list[i]:slice_list[i+1], slice_list[j]:slice_list[j+1]] += full\n",
    "            final_count[:, :, slice_list[i]:slice_list[i+1], slice_list[j]:slice_list[j+1]] += 1\n",
    "            \n",
    "    return full, count"
   ]
  },
  {
   "cell_type": "code",
   "execution_count": 16,
   "id": "f4210971-e88c-4a25-a05a-59d1a3eb08ea",
   "metadata": {},
   "outputs": [
    {
     "ename": "ValueError",
     "evalue": "operands could not be broadcast together with shapes (1,1,2000,2000) (1,1,6000,6000) (1,1,2000,2000) ",
     "output_type": "error",
     "traceback": [
      "\u001b[0;31m---------------------------------------------------------------------------\u001b[0m",
      "\u001b[0;31mValueError\u001b[0m                                Traceback (most recent call last)",
      "\u001b[0;32m/tmp/ipykernel_16889/736206247.py\u001b[0m in \u001b[0;36m<module>\u001b[0;34m\u001b[0m\n\u001b[0;32m----> 1\u001b[0;31m \u001b[0mfull\u001b[0m\u001b[0;34m,\u001b[0m \u001b[0mcount\u001b[0m \u001b[0;34m=\u001b[0m \u001b[0mfull_grid_pass\u001b[0m\u001b[0;34m(\u001b[0m\u001b[0mdataset\u001b[0m\u001b[0;34m=\u001b[0m\u001b[0mdata_6k\u001b[0m\u001b[0;34m,\u001b[0m \u001b[0mmodel\u001b[0m\u001b[0;34m=\u001b[0m\u001b[0mDnCNN\u001b[0m\u001b[0;34m,\u001b[0m \u001b[0msamp_idx\u001b[0m\u001b[0;34m=\u001b[0m\u001b[0;36m0\u001b[0m\u001b[0;34m)\u001b[0m\u001b[0;34m\u001b[0m\u001b[0;34m\u001b[0m\u001b[0m\n\u001b[0m",
      "\u001b[0;32m/tmp/ipykernel_16889/1062123814.py\u001b[0m in \u001b[0;36mfull_grid_pass\u001b[0;34m(dataset, model, samp_idx)\u001b[0m\n\u001b[1;32m     42\u001b[0m                                      w_end=slice_list[j+1])\n\u001b[1;32m     43\u001b[0m \u001b[0;34m\u001b[0m\u001b[0m\n\u001b[0;32m---> 44\u001b[0;31m             \u001b[0mfinal_full\u001b[0m\u001b[0;34m[\u001b[0m\u001b[0;34m:\u001b[0m\u001b[0;34m,\u001b[0m \u001b[0;34m:\u001b[0m\u001b[0;34m,\u001b[0m \u001b[0mslice_list\u001b[0m\u001b[0;34m[\u001b[0m\u001b[0mi\u001b[0m\u001b[0;34m]\u001b[0m\u001b[0;34m:\u001b[0m\u001b[0mslice_list\u001b[0m\u001b[0;34m[\u001b[0m\u001b[0mi\u001b[0m\u001b[0;34m+\u001b[0m\u001b[0;36m1\u001b[0m\u001b[0;34m]\u001b[0m\u001b[0;34m,\u001b[0m \u001b[0mslice_list\u001b[0m\u001b[0;34m[\u001b[0m\u001b[0mj\u001b[0m\u001b[0;34m]\u001b[0m\u001b[0;34m:\u001b[0m\u001b[0mslice_list\u001b[0m\u001b[0;34m[\u001b[0m\u001b[0mj\u001b[0m\u001b[0;34m+\u001b[0m\u001b[0;36m1\u001b[0m\u001b[0;34m]\u001b[0m\u001b[0;34m]\u001b[0m \u001b[0;34m+=\u001b[0m \u001b[0mfull\u001b[0m\u001b[0;34m\u001b[0m\u001b[0;34m\u001b[0m\u001b[0m\n\u001b[0m\u001b[1;32m     45\u001b[0m             \u001b[0mfinal_count\u001b[0m\u001b[0;34m[\u001b[0m\u001b[0;34m:\u001b[0m\u001b[0;34m,\u001b[0m \u001b[0;34m:\u001b[0m\u001b[0;34m,\u001b[0m \u001b[0mslice_list\u001b[0m\u001b[0;34m[\u001b[0m\u001b[0mi\u001b[0m\u001b[0;34m]\u001b[0m\u001b[0;34m:\u001b[0m\u001b[0mslice_list\u001b[0m\u001b[0;34m[\u001b[0m\u001b[0mi\u001b[0m\u001b[0;34m+\u001b[0m\u001b[0;36m1\u001b[0m\u001b[0;34m]\u001b[0m\u001b[0;34m,\u001b[0m \u001b[0mslice_list\u001b[0m\u001b[0;34m[\u001b[0m\u001b[0mj\u001b[0m\u001b[0;34m]\u001b[0m\u001b[0;34m:\u001b[0m\u001b[0mslice_list\u001b[0m\u001b[0;34m[\u001b[0m\u001b[0mj\u001b[0m\u001b[0;34m+\u001b[0m\u001b[0;36m1\u001b[0m\u001b[0;34m]\u001b[0m\u001b[0;34m]\u001b[0m \u001b[0;34m+=\u001b[0m \u001b[0;36m1\u001b[0m\u001b[0;34m\u001b[0m\u001b[0;34m\u001b[0m\u001b[0m\n\u001b[1;32m     46\u001b[0m \u001b[0;34m\u001b[0m\u001b[0m\n",
      "\u001b[0;31mValueError\u001b[0m: operands could not be broadcast together with shapes (1,1,2000,2000) (1,1,6000,6000) (1,1,2000,2000) "
     ]
    }
   ],
   "source": [
    "full, count = full_grid_pass(dataset=data_6k, model=DnCNN, samp_idx=0)"
   ]
  },
  {
   "cell_type": "code",
   "execution_count": null,
   "id": "93f460cc-113b-462e-a38e-13cdc0546469",
   "metadata": {},
   "outputs": [],
   "source": [
    "fig, ax = plt.subplots(1, 3, figsize=(24,20))\n",
    "vmin, vmax = np.percentile(data_6k[0][0][0][2200:2400,1000:1200], (1,99))\n",
    "\n",
    "\n",
    "ax[0].imshow(data_6k[0][0][0][2200:2400,1000:1200], vmin=vmin, vmax=vmax, origin='lower', interpolation='none')\n",
    "ax[0].axis('off')\n",
    "ax[0].set_title('Noisy Sample', fontsize=30)\n",
    "ax[1].imshow(full[0][0][2200:2400,1000:1200],vmin=vmin, vmax=vmax, origin='lower', interpolation='none')\n",
    "ax[1].axis('off')\n",
    "ax[1].set_title('Denoised Sample', fontsize=30)\n",
    "ax[2].imshow(data_6k[1][0][0][2200:2400,1000:1200], vmin=vmin, vmax=vmax, origin='lower', interpolation='none')\n",
    "ax[2].axis('off')\n",
    "ax[2].set_title('Truth Sample', fontsize=30)"
   ]
  },
  {
   "cell_type": "code",
   "execution_count": null,
   "id": "0d9af821-c4d8-404f-9fef-e034b00c4add",
   "metadata": {},
   "outputs": [],
   "source": [
    "fig, ax = plt.subplots(1, 1, figsize=(24,20))\n",
    "ax.imshow(full[0][0])"
   ]
  },
  {
   "cell_type": "code",
   "execution_count": 11,
   "id": "5a537bb1-061c-4e92-8c79-e59a4448df74",
   "metadata": {},
   "outputs": [
    {
     "ename": "SyntaxError",
     "evalue": "invalid syntax (2449392972.py, line 14)",
     "output_type": "error",
     "traceback": [
      "\u001b[0;36m  File \u001b[0;32m\"/tmp/ipykernel_35580/2449392972.py\"\u001b[0;36m, line \u001b[0;32m14\u001b[0m\n\u001b[0;31m    w_start=0,\u001b[0m\n\u001b[0m    ^\u001b[0m\n\u001b[0;31mSyntaxError\u001b[0m\u001b[0;31m:\u001b[0m invalid syntax\n"
     ]
    }
   ],
   "source": [
    "def horizontal_grid_pass(dataset, model, samp_idx):\n",
    "    \n",
    "    horiz_slice_list = [3000, 5000]\n",
    "    vert_slice_list = [2000, 4000, 6000]\n",
    "    \n",
    "    for i in range(len(horiz_slice_list)):\n",
    "        for j in range(len(vert_slice_list)):\n",
    "\n",
    "            full, count = full_grid_pass_window(dataset=data_6k,\n",
    "                                     model= DnCNN,\n",
    "                                     samp_idx=0,\n",
    "                                     h_start=1000,\n",
    "                                     h_end=horiz_slice_list[i]\n",
    "                                     w_start=0,\n",
    "                                     w_end=vert_slice_list[j]\n",
    "                                     )\n",
    "            \n",
    "    return full, count"
   ]
  },
  {
   "cell_type": "code",
   "execution_count": null,
   "id": "d20a60f2-21a0-4d7e-aa81-3e1b9725dd56",
   "metadata": {},
   "outputs": [],
   "source": [
    "full, count = horizontal_grid_pass(dataset=data_6k, model=DnCNN, samp_idx=0)"
   ]
  },
  {
   "cell_type": "markdown",
   "id": "8bc6730b-f774-475c-b227-a88d9347d285",
   "metadata": {},
   "source": [
    "CUDA out of memory. I can see why because I'm trying to run inference on 9 separate images"
   ]
  },
  {
   "cell_type": "code",
   "execution_count": null,
   "id": "ffa265cf-61aa-43d3-b483-bb87e6cb983f",
   "metadata": {},
   "outputs": [],
   "source": [
    "fig, ax = plt.subplots(1, 1, figsize=(24,20))\n",
    "ax.imshow(full[0][0])"
   ]
  },
  {
   "cell_type": "code",
   "execution_count": null,
   "id": "3cb521c2-0880-481a-a265-1059c474075c",
   "metadata": {},
   "outputs": [],
   "source": [
    "fig, ax = plt.subplots(1, 2, figsize=(24,20))\n",
    "vmin, vmax = np.percentile(data_6k[0][0][0][1000:1200,1000:1200], (1,99))\n",
    "ax[0].imshow(data_6k[0][0][0][1000:1200,1000:1200], vmin=vmin, vmax=vmax, origin='lower', interpolation='none')\n",
    "ax[0].axis('off')\n",
    "ax[0].set_title('Noisy Sample')\n",
    "ax[1].imshow(full[0][0][1000:1200,1000:1200], vmin=vmin, vmax=vmax, origin='lower', interpolation='none')\n",
    "ax[1].axis('off')\n",
    "ax[1].set_title('Denoised Sample')"
   ]
  },
  {
   "cell_type": "code",
   "execution_count": null,
   "id": "d1c09a45-ba2d-48ee-b943-9cb0059942df",
   "metadata": {},
   "outputs": [],
   "source": []
  }
 ],
 "metadata": {
  "kernelspec": {
   "display_name": "pytorch-1.9.0",
   "language": "python",
   "name": "pytorch-1.9.0"
  },
  "language_info": {
   "codemirror_mode": {
    "name": "ipython",
    "version": 3
   },
   "file_extension": ".py",
   "mimetype": "text/x-python",
   "name": "python",
   "nbconvert_exporter": "python",
   "pygments_lexer": "ipython3",
   "version": "3.8.11"
  }
 },
 "nbformat": 4,
 "nbformat_minor": 5
}
