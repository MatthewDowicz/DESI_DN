{
 "cells": [
  {
   "cell_type": "code",
   "execution_count": 1,
   "id": "88f7c994-daa9-466e-9a59-24206e168df3",
   "metadata": {},
   "outputs": [
    {
     "name": "stdout",
     "output_type": "stream",
     "text": [
      "Using cuda device\n"
     ]
    }
   ],
   "source": [
    "import torch\n",
    "from torch import nn\n",
    "from torch.utils.data import DataLoader\n",
    "\n",
    "import numpy as np \n",
    "import pathlib\n",
    "\n",
    "# Importing utitility functions for training\n",
    "from PT_files.model import DnCNN, DnCNN_B\n",
    "from PT_files.Dataset import Img_Dataset, Large_Img_Dataset\n",
    "import PT_files.preprocess_data as ppd\n",
    "import PT_files.save_load as sl\n",
    "import matplotlib.pyplot as plt\n",
    "\n",
    "device = \"cuda\" if torch.cuda.is_available() else \"cpu\"\n",
    "# device = \"cpu\""
   ]
  },
  {
   "cell_type": "code",
   "execution_count": 2,
   "id": "857b6137-eb57-466d-8cfb-3879352e44ea",
   "metadata": {},
   "outputs": [],
   "source": [
    "data_6k = sl.NERSC_load('test_data70-6000.npy')"
   ]
  },
  {
   "cell_type": "code",
   "execution_count": 3,
   "id": "531db34c-5833-4b40-be94-2e341db66000",
   "metadata": {},
   "outputs": [],
   "source": [
    "def grid_window(dataset,\n",
    "                model,\n",
    "                model_params,\n",
    "                samp_idx,\n",
    "                h_start,\n",
    "                h_end,\n",
    "                w_start,\n",
    "                w_end):\n",
    "    \n",
    "    full = np.empty((1, 1, 6000, 6000))\n",
    "    count = np.empty((1, 1, 6000, 6000))\n",
    "    \n",
    "    noise_data = dataset[0]\n",
    "    params_name = model_params\n",
    "    \n",
    "    current_dir = pathlib.Path().resolve()\n",
    "    model_params_path = current_dir / 'Model_params'\n",
    "    assert model_params_path.exists()\n",
    "    model_path = model_params_path / params_name\n",
    "    \n",
    "    model = model()\n",
    "    model.to(device)\n",
    "    model.load_state_dict(torch.load(str(model_path)))\n",
    "    model.eval()\n",
    "    \n",
    "    with torch.no_grad():\n",
    "        \n",
    "        torch.cuda.empty_cache()\n",
    "        test_noise = torch.as_tensor(noise_data[samp_idx:samp_idx+1, :, h_start:h_end, w_start:w_end])\n",
    "        test_noise = test_noise.to(device)\n",
    "        \n",
    "        output = model(test_noise)\n",
    "        resid_img = output.cpu().detach().numpy()\n",
    "        \n",
    "        full[:, :, h_start:h_end, w_start:w_end] += resid_img\n",
    "        count[:, :, h_start:h_end, w_start:w_end] += 1\n",
    "        \n",
    "    return full, count"
   ]
  },
  {
   "cell_type": "code",
   "execution_count": 4,
   "id": "6b2723c2-3941-4955-b71f-a3372719397a",
   "metadata": {},
   "outputs": [],
   "source": [
    "full, count = full_grid_pass_window(dataset=data_6k,\n",
    "                             model= DnCNN,\n",
    "                             samp_idx=0,\n",
    "                             w_start=0,\n",
    "                             w_end=2000,\n",
    "                             h_start=0,\n",
    "                             h_end=2000)"
   ]
  },
  {
   "cell_type": "code",
   "execution_count": null,
   "id": "a5a6ac0f-ce0d-4eb9-bcc4-819916f192f5",
   "metadata": {},
   "outputs": [],
   "source": [
    "def grid_window(dataset,\n",
    "                model,\n",
    "                model_params,\n",
    "                samp_idx,\n",
    "                h_start,\n",
    "                h_end,\n",
    "                w_start,\n",
    "                w_end):\n",
    "    \n",
    "    full = np.empty((1, 1, 6000, 6000))\n",
    "    count = np.empty((1, 1, 6000, 6000))\n",
    "    \n",
    "    noise_data = dataset[0]\n",
    "    params_name = model_params\n",
    "    \n",
    "    current_dir = pathlib.Path().resolve()\n",
    "    model_params_path = current_dir / 'Model_params'\n",
    "    assert model_params_path.exists()\n",
    "    model_path = model_params_path / params_name\n",
    "    \n",
    "    model = model()\n",
    "    model.to(device)\n",
    "    model.load_state_dict(torch.load(str(model_path)))\n",
    "    model.eval()\n",
    "    \n",
    "    with torch.no_grad():\n",
    "        \n",
    "        torch.cuda.empty_cache()\n",
    "        test_noise = torch.as_tensor(noise_data[samp_idx:samp_idx+1, :, h_start:h_end, w_start:w_end])\n",
    "        test_noise = test_noise.to(device)\n",
    "        \n",
    "        output = model(test_noise)\n",
    "        resid_img = output.cpu().detach().numpy()\n",
    "        \n",
    "        full[:, :, h_start:h_end, w_start:w_end] += resid_img\n",
    "        count[:, :, h_start:h_end, w_start:w_end] += 1\n",
    "        \n",
    "    return full, count"
   ]
  },
  {
   "cell_type": "code",
   "execution_count": null,
   "id": "b88b2aee-71bb-4977-af69-65627d0dd981",
   "metadata": {},
   "outputs": [],
   "source": [
    "def full_img_pass(dataset,\n",
    "                  model,\n",
    "                  model_params,\n",
    "                  model_size: int,\n",
    "                  samp_idx: int):\n",
    "    \n",
    "    noise_data = dataset[0]    \n",
    "    patch_length = model_size\n",
    "    num_patch_across = int(len(noise_data[0][0]) / patch_length)\n",
    "    patch_end_idxs = []\n",
    "    for i in range(patch_length):\n",
    "        patch_end_idxs.append(patch_length*(i+1))\n",
    "        \n",
    "    for j in range(len(patch_end_idxs)):\n",
    "        for k in range(len(patch_end_idxs)):\n",
    "\n",
    "            full, count = grid_window(dataset=dataset,\n",
    "                                      model=model,\n",
    "                                      model_params=model_params,\n",
    "                                      samp_idx=samp_idx,\n",
    "                                      h_start=0,\n",
    "                                      h_end=patch_end_idxs[j],\n",
    "                                      w_start=0,\n",
    "                                      w_end=patch_end_idxs[k])\n",
    "    \n",
    "    return full, count"
   ]
  }
 ],
 "metadata": {
  "kernelspec": {
   "display_name": "pytorch-1.9.0",
   "language": "python",
   "name": "pytorch-1.9.0"
  },
  "language_info": {
   "codemirror_mode": {
    "name": "ipython",
    "version": 3
   },
   "file_extension": ".py",
   "mimetype": "text/x-python",
   "name": "python",
   "nbconvert_exporter": "python",
   "pygments_lexer": "ipython3",
   "version": "3.8.11"
  }
 },
 "nbformat": 4,
 "nbformat_minor": 5
}
