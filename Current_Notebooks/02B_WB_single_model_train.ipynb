{
 "cells": [
  {
   "cell_type": "code",
   "execution_count": 1,
   "id": "cb52c828-d090-4993-999f-012258162fcc",
   "metadata": {},
   "outputs": [
    {
     "name": "stdout",
     "output_type": "stream",
     "text": [
      "Using cuda device\n"
     ]
    }
   ],
   "source": [
    "import torch\n",
    "from torch import nn\n",
    "from torch.utils.data import DataLoader\n",
    "import torchvision\n",
    "import torchvision.transforms as transforms\n",
    "from tqdm.notebook import tqdm\n",
    "\n",
    "import numpy as np \n",
    "import pathlib\n",
    "import matplotlib.pyplot as plt\n",
    "\n",
    "# Importing utitility functions for training\n",
    "from PT_files.model import DnCNN, DnCNN_B\n",
    "from PT_files.Dataset import Img_Dataset, Large_Img_Dataset\n",
    "import PT_files.preprocess_data as ppd\n",
    "import PT_files.save_load as sl\n",
    "\n",
    "device = \"cuda\" if torch.cuda.is_available() else \"cpu\""
   ]
  },
  {
   "cell_type": "code",
   "execution_count": 2,
   "id": "7bc57920-48d4-42a7-895c-272e1f40c44d",
   "metadata": {},
   "outputs": [],
   "source": [
    "%%capture\n",
    "# !pip install wandb --upgrade"
   ]
  },
  {
   "cell_type": "code",
   "execution_count": 3,
   "id": "d54199d0-19e1-4d13-9cfb-a2bab3e3a29c",
   "metadata": {},
   "outputs": [
    {
     "name": "stderr",
     "output_type": "stream",
     "text": [
      "Failed to detect the name of this notebook, you can set it manually with the WANDB_NOTEBOOK_NAME environment variable to enable code saving.\n",
      "\u001b[34m\u001b[1mwandb\u001b[0m: Currently logged in as: \u001b[33mmdowicz\u001b[0m (use `wandb login --relogin` to force relogin)\n"
     ]
    },
    {
     "data": {
      "text/plain": [
       "True"
      ]
     },
     "execution_count": 3,
     "metadata": {},
     "output_type": "execute_result"
    }
   ],
   "source": [
    "import wandb\n",
    "\n",
    "wandb.login()"
   ]
  },
  {
   "cell_type": "code",
   "execution_count": 4,
   "id": "6f6e7b9b-60e8-4725-ba31-367c86eadc80",
   "metadata": {},
   "outputs": [],
   "source": [
    "config = dict(\n",
    "    epochs=800,\n",
    "    num_layers=20,\n",
    "    num_features=64,\n",
    "    batch_size=64,\n",
    "    learning_rate=1e-3,\n",
    "    dataset=\"6k model data\",\n",
    "    architecture=\"2k DnCNN\")"
   ]
  },
  {
   "cell_type": "code",
   "execution_count": 5,
   "id": "80fc5eb4-6e0e-4ec4-a332-cad742ffd4bc",
   "metadata": {},
   "outputs": [],
   "source": [
    "def model_pipeline(hyperparameters):\n",
    "    \n",
    "    # tell wandb to get started\n",
    "    with wandb.init(project=\"DnCNN-demo\", config=hyperparameters):\n",
    "        # access all HPs through wandb.config, so logging matches execution!\n",
    "        config = wandb.config\n",
    "        \n",
    "        # make the model, data, and optimization problem\n",
    "        model, train_loader, test_loader, criterion, optimizer = make(config)\n",
    "        print(model)\n",
    "        \n",
    "        # and use them to train the model\n",
    "        train(model, train_loader, test_loader, criterion, optimizer, config)\n",
    "        \n",
    "        # and test its final performance\n",
    "        # test(model, test_loader, criterion, config)\n",
    "        \n",
    "    return model"
   ]
  },
  {
   "cell_type": "code",
   "execution_count": 6,
   "id": "9849ef4e-bfc4-4687-b3f9-2d9f0abf6c18",
   "metadata": {},
   "outputs": [],
   "source": [
    "def make(config):\n",
    "    # Make the data\n",
    "    train, test = get_data(model_name=\"2k\", train=True), get_data(model_name=\"2k\", train=False)\n",
    "    train_loader = make_loader(train, batch_size=config.batch_size)\n",
    "    test_loader = make_loader(test, batch_size=config.batch_size)\n",
    "    \n",
    "    # Make the model\n",
    "    model = DnCNN(num_layers=config.num_layers, num_features=config.num_features).to(device)\n",
    "    \n",
    "    # Make the loss and optimizer\n",
    "    criterion = nn.MSELoss(reduction='sum') # add more to this. see 02A notebook\n",
    "    optimizer = torch.optim.Adam(\n",
    "        model.parameters(), lr=config.learning_rate)\n",
    "    \n",
    "    return model, train_loader, test_loader, criterion, optimizer "
   ]
  },
  {
   "cell_type": "code",
   "execution_count": 7,
   "id": "dc90776e-c508-431f-b5e5-78679dfb4819",
   "metadata": {},
   "outputs": [],
   "source": [
    "def get_data(model_name, train=True):\n",
    "    \n",
    "    if model_name == \"6k\":\n",
    "        if train == True:\n",
    "            # Raw training data\n",
    "            training_data = sl.NERSC_load('training_data_60%_6000.npy')        \n",
    "            # Processed training data for DnCNN\n",
    "            dataset = Img_Dataset(data_set=training_data,\n",
    "                                      patch_size=150,\n",
    "                                      width=6000,\n",
    "                                      height=6000)\n",
    "        else:\n",
    "            \n",
    "            # Raw test data\n",
    "            test_data = sl.NERSC_load('test_data_40%_6000.npy')\n",
    "            # Processed test data for DnCN\n",
    "            dataset = Img_Dataset(data_set=test_data,\n",
    "                                    patch_size=150,\n",
    "                                    width=6000,\n",
    "                                    height=6000)\n",
    "        \n",
    "    elif model_name == \"2k\":\n",
    "        if train == True:\n",
    "            # Raw training & test data\n",
    "            training_data = sl.NERSC_load('training_data_60%_2000.npy')        \n",
    "            # Processed training & test data for DnCNN\n",
    "            dataset = Img_Dataset(data_set=training_data,\n",
    "                                      patch_size=50,\n",
    "                                      width=2000,\n",
    "                                      height=2000)\n",
    "        else:\n",
    "            \n",
    "            # Raw test data\n",
    "            test_data = sl.NERSC_load('test_data_40%_2000.npy')\n",
    "            # Processed test data for DnCN\n",
    "            dataset = Img_Dataset(data_set=test_data,\n",
    "                                    patch_size=50,\n",
    "                                    width=2000,\n",
    "                                    height=2000)\n",
    "        \n",
    "\n",
    "    return dataset\n",
    "\n",
    "def make_loader(dataset, batch_size):\n",
    "    \n",
    "    loader = DataLoader(dataset=dataset,\n",
    "                        batch_size=batch_size,\n",
    "                        shuffle=True)\n",
    "    \n",
    "    return loader"
   ]
  },
  {
   "cell_type": "code",
   "execution_count": 8,
   "id": "13e72444-de0a-4f18-b042-f7645c49aa88",
   "metadata": {},
   "outputs": [],
   "source": [
    "def train(model, train_loader, test_loader, criterion, optimizer, config):\n",
    "    # Tell wandb to watch what the model gets up to: gradients, weights, etc.\n",
    "    wandb.watch(model, criterion, log=\"all\", log_freq=10)\n",
    "    \n",
    "    # Run training and track with wandb\n",
    "    model.train()\n",
    "    total_batches = len(train_loader) * config.epochs\n",
    "    example_ct = 0 # number of examples seen\n",
    "    batch_ct = 0\n",
    "    \n",
    "  \n",
    "    for epoch in tqdm(range(config.epochs)):\n",
    "        train_tot_loss = 0\n",
    "        val_tot_loss = 0\n",
    "        # Evaluate the training loss\n",
    "        for batch_index, (images, labels) in enumerate(train_loader):\n",
    "            \n",
    "            loss = train_batch(images=images,\n",
    "                               labels=labels,\n",
    "                               model=model,\n",
    "                               optimizer=optimizer,\n",
    "                               criterion=criterion)\n",
    "            train_tot_loss += loss\n",
    "            example_ct += len(images)\n",
    "            batch_ct += 1\n",
    "            \n",
    "\n",
    "        # Evaluate the validation loss       \n",
    "        model.eval()\n",
    "        for batch_index, (images, labels) in enumerate(test_loader):\n",
    "            images, labels = images.to(device), labels.to(device)\n",
    "            with torch.no_grad():\n",
    "                val_loss = validate_batch(images=images,\n",
    "                                          labels=labels,\n",
    "                                          model=model,\n",
    "                                          criterion=criterion)\n",
    "            val_tot_loss += val_loss\n",
    "        # Log validation and training loss\n",
    "        wandb.log({\"val_loss\": val_tot_loss, \"train_loss\": train_tot_loss})\n",
    "        \n",
    "    torch.onxx.export(model, images, \"dncnn.onxx\")\n",
    "    wandb.save(\"model.onxx\")\n",
    "    \n",
    "                \n",
    "                \n",
    "def train_batch(images, labels, model, optimizer, criterion):\n",
    "    images, labels = images.to(device), labels.to(device)\n",
    "    \n",
    "    # Forward Pass ->\n",
    "    output = model(images)\n",
    "    loss = criterion(output, labels) /(2*len(images))\n",
    "    \n",
    "    # Backward pass <-\n",
    "    optimizer.zero_grad()\n",
    "    loss.backward()\n",
    "    \n",
    "    # Step with optimizer\n",
    "    optimizer.step()\n",
    "    \n",
    "    return np.log(loss.detach().cpu().numpy())\n",
    "\n",
    "def validate_batch(images, labels, model, criterion):\n",
    "    output = model(images)\n",
    "    loss = criterion(output, labels) /(2*len(images))\n",
    "    loss = np.log(loss.cpu())\n",
    "    \n",
    "    return loss"
   ]
  },
  {
   "cell_type": "code",
   "execution_count": null,
   "id": "26bec63a-9e94-4074-8796-afa3facc8e1c",
   "metadata": {},
   "outputs": [
    {
     "data": {
      "text/html": [
       "Tracking run with wandb version 0.12.11"
      ],
      "text/plain": [
       "<IPython.core.display.HTML object>"
      ]
     },
     "metadata": {},
     "output_type": "display_data"
    },
    {
     "data": {
      "text/html": [
       "Run data is saved locally in <code>/pscratch/sd/m/mdowicz/DESI_dn/wandb/run-20220309_210734-28ptdr9o</code>"
      ],
      "text/plain": [
       "<IPython.core.display.HTML object>"
      ]
     },
     "metadata": {},
     "output_type": "display_data"
    },
    {
     "data": {
      "text/html": [
       "Syncing run <strong><a href=\"https://wandb.ai/mdowicz/DnCNN-demo/runs/28ptdr9o\" target=\"_blank\">ethereal-breeze-5</a></strong> to <a href=\"https://wandb.ai/mdowicz/DnCNN-demo\" target=\"_blank\">Weights & Biases</a> (<a href=\"https://wandb.me/run\" target=\"_blank\">docs</a>)<br/>"
      ],
      "text/plain": [
       "<IPython.core.display.HTML object>"
      ]
     },
     "metadata": {},
     "output_type": "display_data"
    },
    {
     "name": "stdout",
     "output_type": "stream",
     "text": [
      "DnCNN(\n",
      "  (layers): Sequential(\n",
      "    (0): Sequential(\n",
      "      (0): Conv2d(1, 64, kernel_size=(3, 3), stride=(1, 1), padding=(1, 1))\n",
      "      (1): ReLU(inplace=True)\n",
      "    )\n",
      "    (1): Sequential(\n",
      "      (0): Conv2d(64, 64, kernel_size=(3, 3), stride=(1, 1), padding=(1, 1))\n",
      "      (1): BatchNorm2d(64, eps=1e-05, momentum=0.1, affine=True, track_running_stats=True)\n",
      "      (2): ReLU(inplace=True)\n",
      "    )\n",
      "    (2): Sequential(\n",
      "      (0): Conv2d(64, 64, kernel_size=(3, 3), stride=(1, 1), padding=(1, 1))\n",
      "      (1): BatchNorm2d(64, eps=1e-05, momentum=0.1, affine=True, track_running_stats=True)\n",
      "      (2): ReLU(inplace=True)\n",
      "    )\n",
      "    (3): Sequential(\n",
      "      (0): Conv2d(64, 64, kernel_size=(3, 3), stride=(1, 1), padding=(1, 1))\n",
      "      (1): BatchNorm2d(64, eps=1e-05, momentum=0.1, affine=True, track_running_stats=True)\n",
      "      (2): ReLU(inplace=True)\n",
      "    )\n",
      "    (4): Sequential(\n",
      "      (0): Conv2d(64, 64, kernel_size=(3, 3), stride=(1, 1), padding=(1, 1))\n",
      "      (1): BatchNorm2d(64, eps=1e-05, momentum=0.1, affine=True, track_running_stats=True)\n",
      "      (2): ReLU(inplace=True)\n",
      "    )\n",
      "    (5): Sequential(\n",
      "      (0): Conv2d(64, 64, kernel_size=(3, 3), stride=(1, 1), padding=(1, 1))\n",
      "      (1): BatchNorm2d(64, eps=1e-05, momentum=0.1, affine=True, track_running_stats=True)\n",
      "      (2): ReLU(inplace=True)\n",
      "    )\n",
      "    (6): Sequential(\n",
      "      (0): Conv2d(64, 64, kernel_size=(3, 3), stride=(1, 1), padding=(1, 1))\n",
      "      (1): BatchNorm2d(64, eps=1e-05, momentum=0.1, affine=True, track_running_stats=True)\n",
      "      (2): ReLU(inplace=True)\n",
      "    )\n",
      "    (7): Sequential(\n",
      "      (0): Conv2d(64, 64, kernel_size=(3, 3), stride=(1, 1), padding=(1, 1))\n",
      "      (1): BatchNorm2d(64, eps=1e-05, momentum=0.1, affine=True, track_running_stats=True)\n",
      "      (2): ReLU(inplace=True)\n",
      "    )\n",
      "    (8): Sequential(\n",
      "      (0): Conv2d(64, 64, kernel_size=(3, 3), stride=(1, 1), padding=(1, 1))\n",
      "      (1): BatchNorm2d(64, eps=1e-05, momentum=0.1, affine=True, track_running_stats=True)\n",
      "      (2): ReLU(inplace=True)\n",
      "    )\n",
      "    (9): Sequential(\n",
      "      (0): Conv2d(64, 64, kernel_size=(3, 3), stride=(1, 1), padding=(1, 1))\n",
      "      (1): BatchNorm2d(64, eps=1e-05, momentum=0.1, affine=True, track_running_stats=True)\n",
      "      (2): ReLU(inplace=True)\n",
      "    )\n",
      "    (10): Sequential(\n",
      "      (0): Conv2d(64, 64, kernel_size=(3, 3), stride=(1, 1), padding=(1, 1))\n",
      "      (1): BatchNorm2d(64, eps=1e-05, momentum=0.1, affine=True, track_running_stats=True)\n",
      "      (2): ReLU(inplace=True)\n",
      "    )\n",
      "    (11): Sequential(\n",
      "      (0): Conv2d(64, 64, kernel_size=(3, 3), stride=(1, 1), padding=(1, 1))\n",
      "      (1): BatchNorm2d(64, eps=1e-05, momentum=0.1, affine=True, track_running_stats=True)\n",
      "      (2): ReLU(inplace=True)\n",
      "    )\n",
      "    (12): Sequential(\n",
      "      (0): Conv2d(64, 64, kernel_size=(3, 3), stride=(1, 1), padding=(1, 1))\n",
      "      (1): BatchNorm2d(64, eps=1e-05, momentum=0.1, affine=True, track_running_stats=True)\n",
      "      (2): ReLU(inplace=True)\n",
      "    )\n",
      "    (13): Sequential(\n",
      "      (0): Conv2d(64, 64, kernel_size=(3, 3), stride=(1, 1), padding=(1, 1))\n",
      "      (1): BatchNorm2d(64, eps=1e-05, momentum=0.1, affine=True, track_running_stats=True)\n",
      "      (2): ReLU(inplace=True)\n",
      "    )\n",
      "    (14): Sequential(\n",
      "      (0): Conv2d(64, 64, kernel_size=(3, 3), stride=(1, 1), padding=(1, 1))\n",
      "      (1): BatchNorm2d(64, eps=1e-05, momentum=0.1, affine=True, track_running_stats=True)\n",
      "      (2): ReLU(inplace=True)\n",
      "    )\n",
      "    (15): Sequential(\n",
      "      (0): Conv2d(64, 64, kernel_size=(3, 3), stride=(1, 1), padding=(1, 1))\n",
      "      (1): BatchNorm2d(64, eps=1e-05, momentum=0.1, affine=True, track_running_stats=True)\n",
      "      (2): ReLU(inplace=True)\n",
      "    )\n",
      "    (16): Sequential(\n",
      "      (0): Conv2d(64, 64, kernel_size=(3, 3), stride=(1, 1), padding=(1, 1))\n",
      "      (1): BatchNorm2d(64, eps=1e-05, momentum=0.1, affine=True, track_running_stats=True)\n",
      "      (2): ReLU(inplace=True)\n",
      "    )\n",
      "    (17): Sequential(\n",
      "      (0): Conv2d(64, 64, kernel_size=(3, 3), stride=(1, 1), padding=(1, 1))\n",
      "      (1): BatchNorm2d(64, eps=1e-05, momentum=0.1, affine=True, track_running_stats=True)\n",
      "      (2): ReLU(inplace=True)\n",
      "    )\n",
      "    (18): Sequential(\n",
      "      (0): Conv2d(64, 64, kernel_size=(3, 3), stride=(1, 1), padding=(1, 1))\n",
      "      (1): BatchNorm2d(64, eps=1e-05, momentum=0.1, affine=True, track_running_stats=True)\n",
      "      (2): ReLU(inplace=True)\n",
      "    )\n",
      "    (19): Conv2d(64, 1, kernel_size=(3, 3), stride=(1, 1), padding=(1, 1))\n",
      "  )\n",
      ")\n"
     ]
    },
    {
     "data": {
      "application/vnd.jupyter.widget-view+json": {
       "model_id": "4d43336ec7124522ba223d1bc9dd413f",
       "version_major": 2,
       "version_minor": 0
      },
      "text/plain": [
       "  0%|          | 0/800 [00:00<?, ?it/s]"
      ]
     },
     "metadata": {},
     "output_type": "display_data"
    },
    {
     "name": "stdout",
     "output_type": "stream",
     "text": [
      "\n"
     ]
    }
   ],
   "source": [
    "model = model_pipeline(config)"
   ]
  },
  {
   "cell_type": "code",
   "execution_count": null,
   "id": "dc4a110a-9ac7-436c-a8ec-6de42855b601",
   "metadata": {},
   "outputs": [],
   "source": []
  }
 ],
 "metadata": {
  "kernelspec": {
   "display_name": "pytorch-1.9.0",
   "language": "python",
   "name": "pytorch-1.9.0"
  },
  "language_info": {
   "codemirror_mode": {
    "name": "ipython",
    "version": 3
   },
   "file_extension": ".py",
   "mimetype": "text/x-python",
   "name": "python",
   "nbconvert_exporter": "python",
   "pygments_lexer": "ipython3",
   "version": "3.8.11"
  }
 },
 "nbformat": 4,
 "nbformat_minor": 5
}
