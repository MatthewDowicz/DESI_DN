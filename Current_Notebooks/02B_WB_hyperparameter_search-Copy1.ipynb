{
 "cells": [
  {
   "cell_type": "code",
   "execution_count": 1,
   "id": "be4dac5f-f941-4597-858c-ce3e4eeb50bd",
   "metadata": {},
   "outputs": [
    {
     "name": "stderr",
     "output_type": "stream",
     "text": [
      "Failed to detect the name of this notebook, you can set it manually with the WANDB_NOTEBOOK_NAME environment variable to enable code saving.\n",
      "\u001b[34m\u001b[1mwandb\u001b[0m: Currently logged in as: \u001b[33mmdowicz\u001b[0m (use `wandb login --relogin` to force relogin)\n"
     ]
    },
    {
     "name": "stdout",
     "output_type": "stream",
     "text": [
      "Using cuda device\n"
     ]
    }
   ],
   "source": [
    "import wandb\n",
    "wandb.login()\n",
    "\n",
    "import torch\n",
    "from torch import nn\n",
    "from torch.utils.data import DataLoader\n",
    "# from model import DnCNN\n",
    "# from Dataset import Img_Dataset\n",
    "import numpy as np \n",
    "import pathlib\n",
    "import matplotlib.pyplot as plt\n",
    "\n",
    "# Importing utitility functions for training\n",
    "from PT_files.model import DnCNN, DnCNN_B\n",
    "from PT_files.Dataset import Img_Dataset, Large_Img_Dataset\n",
    "import PT_files.preprocess_data as ppd\n",
    "import PT_files.save_load as sl\n",
    "\n",
    "device = \"cuda\" if torch.cuda.is_available() else \"cpu\""
   ]
  },
  {
   "cell_type": "code",
   "execution_count": null,
   "id": "5390dbb5-a4cd-496f-a1a5-96b6f32f3c24",
   "metadata": {},
   "outputs": [],
   "source": [
    "training_data = sl.NERSC_load('training_data_60%_6000.npy')\n",
    "test_data = sl.NERSC_load('test_data_40%_6000.npy')"
   ]
  },
  {
   "cell_type": "code",
   "execution_count": null,
   "id": "2945aa60-39ed-4961-afdd-79058b9254f6",
   "metadata": {},
   "outputs": [],
   "source": [
    "train_dataset = Img_Dataset(data_set=training_data,\n",
    "                                  patch_size=150,\n",
    "                                  width=6000,\n",
    "                                  height=6000)\n",
    "\n",
    "test_dataset = Img_Dataset(data_set=test_data,\n",
    "                                patch_size=150,\n",
    "                                width=6000,\n",
    "                                height=6000)"
   ]
  },
  {
   "cell_type": "code",
   "execution_count": null,
   "id": "68119a58-0bb5-4c7d-8431-dec73c869142",
   "metadata": {},
   "outputs": [],
   "source": [
    "#@title\n",
    "import wandb\n",
    "import math\n",
    "import random\n",
    "import torch, torchvision\n",
    "import torch.nn as nn\n",
    "import torchvision.transforms as T\n",
    "from tqdm.notebook import tqdm\n",
    "\n",
    "\n",
    "def get_dataloader(is_train, batch_size, slice=5):\n",
    "    \"Get a training dataloader\"\n",
    "    full_dataset = torchvision.datasets.MNIST(root=\".\", train=is_train, transform=T.ToTensor(), download=True)\n",
    "    sub_dataset = torch.utils.data.Subset(full_dataset, indices=range(0, len(full_dataset), slice))\n",
    "    loader = torch.utils.data.DataLoader(dataset=sub_dataset, \n",
    "                                         batch_size=batch_size, \n",
    "                                         shuffle=True if is_train else False, \n",
    "                                         pin_memory=True, num_workers=2)\n",
    "    return loader\n",
    "\n",
    "\n",
    "def get_dataloader(is_train, batch_size):\n",
    "    \"Get a training dataloader\"\n",
    "    train_dataset = Img_Dataset(data_set=training_data,\n",
    "                                  patch_size=150,\n",
    "                                  width=6000,\n",
    "                                  height=6000)\n",
    "\n",
    "    test_dataset = Img_Dataset(data_set=test_data,\n",
    "                                patch_size=150,\n",
    "                                width=6000,\n",
    "                                height=6000)\n",
    "    if is_train == True:\n",
    "        loader = torch.utils.data.DataLoader(dataset=train_dataset, \n",
    "                                         batch_size=batch_size, \n",
    "                                         shuffle=True if is_train else False)\n",
    "        \n",
    "    else:\n",
    "        loader = torch.utils.data.DataLoader(dataset=test_dataset, \n",
    "                                         batch_size=batch_size, \n",
    "                                         shuffle=True if is_train else False)\n",
    "    return loader"
   ]
  },
  {
   "cell_type": "code",
   "execution_count": 11,
   "id": "03825dcd-15d1-4388-a1a1-6b06c09cc64f",
   "metadata": {},
   "outputs": [],
   "source": [
    "def train_one_step(model, imgs, labels, optimizer):\n",
    "    optimizer.zero_grad()\n",
    "  \n",
    "    \n",
    "    output = model(imgs)\n",
    "    loss_fn = nn.MSELoss(reduction='sum')\n",
    "    loss = loss_fn(output, labels) /(2*len(imgs))\n",
    "\n",
    "    loss.backward()\n",
    "    optimizer.step()\n",
    "    return loss\n",
    "\n",
    "def train_one_epoch(model, dataloader, optimizer):\n",
    "    model.train()\n",
    "    total_loss = 0\n",
    "    for batch_index, (imgs, labels) in enumerate(dataloader):\n",
    "        \n",
    "        loss = train_one_step(model, imgs, labels, optimizer)\n",
    "        total_loss += loss\n",
    "        \n",
    "    return np.log(total_loss)"
   ]
  },
  {
   "cell_type": "code",
   "execution_count": 12,
   "id": "6ded8746-1214-4808-ae34-7c5c570ae6cd",
   "metadata": {},
   "outputs": [],
   "source": [
    "def validate_one_step(model, imgs, labels):\n",
    "    output = model(imgs)\n",
    "    loss_fn = nn.MSELoss(reduction='sum')\n",
    "    loss = loss_fn(output, labels) /(2*len(imgs))\n",
    "    return loss\n",
    "\n",
    "def validate_one_epoch(model, dataloader):\n",
    "    model.eval()\n",
    "    total_loss = 0\n",
    "    for batch_index, (imgs, labels) in enumerate(dataloader):\n",
    "\n",
    "        with torch.no_grad():\n",
    "            loss = validate_one_step(model, imgs, labels)\n",
    "        total_loss += loss\n",
    "        \n",
    "    return np.log(total_loss)"
   ]
  },
  {
   "cell_type": "code",
   "execution_count": 13,
   "id": "7a421107-fe6c-4207-801c-8175591b979b",
   "metadata": {},
   "outputs": [],
   "source": [
    "def build_optimizer(model, optimizer, learning_rate):\n",
    "    \n",
    "    if optimizer == \"sgd\":\n",
    "        optimizer = torch.optim.SGD(mode.parameters(),\n",
    "                                    lr=learning_rate,\n",
    "                                    momentum=0.9)\n",
    "    elif optimizer == \"adam\":\n",
    "        optimizer = torch.optim.Adam(model.parameters(),\n",
    "                                     lr=learning_rate)\n",
    "    return optimizer"
   ]
  },
  {
   "cell_type": "code",
   "execution_count": 14,
   "id": "d9701175-3454-4ac8-a9b5-5976a17644b9",
   "metadata": {},
   "outputs": [
    {
     "data": {
      "text/plain": [
       "{'method': 'random',\n",
       " 'metric': {'name': 'loss', 'goal': 'minimize'},\n",
       " 'parameters': {'optimizer': {'values': ['adam', 'sgd']},\n",
       "  'fc_num_layers': {'values': [17, 20, 25, 30]},\n",
       "  'fc_num_features': {'values': [64, 128, 256]},\n",
       "  'epochs': {'value': 2},\n",
       "  'learning_rate': {'distribution': 'uniform', 'min': 0, 'max': 0.1},\n",
       "  'batch_size': {'values': [16, 32, 64, 128, 256]}}}"
      ]
     },
     "execution_count": 14,
     "metadata": {},
     "output_type": "execute_result"
    }
   ],
   "source": [
    "sweep_config"
   ]
  },
  {
   "cell_type": "code",
   "execution_count": 1,
   "id": "c4fc2920-8586-437d-8a7c-8fcaf60bc7c2",
   "metadata": {},
   "outputs": [
    {
     "ename": "SyntaxError",
     "evalue": "EOL while scanning string literal (4007491228.py, line 4)",
     "output_type": "error",
     "traceback": [
      "\u001b[0;36m  File \u001b[0;32m\"/tmp/ipykernel_5123/4007491228.py\"\u001b[0;36m, line \u001b[0;32m4\u001b[0m\n\u001b[0;31m    project=\"pytorch-DnCNN\u001b[0m\n\u001b[0m                          ^\u001b[0m\n\u001b[0;31mSyntaxError\u001b[0m\u001b[0;31m:\u001b[0m EOL while scanning string literal\n"
     ]
    }
   ],
   "source": [
    "for _ in range(5):\n",
    "    # initialize a wandb run\n",
    "    wandb.init(\n",
    "        project=\"pytorch-DnCNN\",\n",
    "        config={\n",
    "            \"epochs\": 2,\n",
    "            \"batch_size\": [8, 16, 32, 64, 128],\n",
    "            \"lr\": "
   ]
  },
  {
   "cell_type": "code",
   "execution_count": 18,
   "id": "15fc27a3-ef99-4f9f-9265-ccf2891bb733",
   "metadata": {},
   "outputs": [],
   "source": [
    "def train(config=None):\n",
    "    # Initialize a new wandb run\n",
    "    with wandb.init(config=config):\n",
    "        # If calld by wandb.agent, as below,\n",
    "        # this config will be set by Sweep Controller\n",
    "        config = wandb.config\n",
    "        \n",
    "        # Training Data\n",
    "        train_loader = DataLoader(train_dataset, \n",
    "                                  config.batch_size)\n",
    "        # Validation Data\n",
    "        val_loader = DataLoader(test_dataset,\n",
    "                                 batch_size=config.batch_size)\n",
    "        \n",
    "        # Model\n",
    "        model = DnCNN(num_layers=config.fc_num_layers,\n",
    "                        num_features=config.fc_num_features)\n",
    "        \n",
    "        # Optimizer\n",
    "        optimizer = build_optimizer(model, config.optimizer, config.learning_rate)\n",
    "        \n",
    "        # Track loss curves\n",
    "        losses, val_losses = [], []\n",
    "        \n",
    "        for epoch in range(config.epochs):\n",
    "            losses.append(train_one_epoch(model, train_loader, optimizer)).cpu().detach().numpy()\n",
    "            train_metrics = {\"train_loss\": train_one_epoch(model, train_loader, optimizer)}\n",
    "                             \n",
    "            val_loses.append(validate_one_epoch(model, test_loader)).cpu().detach().numpy()\n",
    "            val_metrics = {\"val_loss\": validate_one_epoch(model, test_loader)}\n",
    "                             \n",
    "            wandb.log({**train_metrics, **val_metrics})\n",
    "            \n",
    "    wandb.finish()"
   ]
  },
  {
   "cell_type": "code",
   "execution_count": 19,
   "id": "37685e19-278a-447c-89c1-b057be7f6eed",
   "metadata": {},
   "outputs": [
    {
     "name": "stderr",
     "output_type": "stream",
     "text": [
      "\u001b[34m\u001b[1mwandb\u001b[0m: Agent Starting Run: pfbzxnxx with config:\n",
      "\u001b[34m\u001b[1mwandb\u001b[0m: \tbatch_size: 64\n",
      "\u001b[34m\u001b[1mwandb\u001b[0m: \tepochs: 2\n",
      "\u001b[34m\u001b[1mwandb\u001b[0m: \tfc_num_features: 256\n",
      "\u001b[34m\u001b[1mwandb\u001b[0m: \tfc_num_layers: 25\n",
      "\u001b[34m\u001b[1mwandb\u001b[0m: \tlearning_rate: 0.046667252374289016\n",
      "\u001b[34m\u001b[1mwandb\u001b[0m: \toptimizer: sgd\n",
      "Failed to detect the name of this notebook, you can set it manually with the WANDB_NOTEBOOK_NAME environment variable to enable code saving.\n",
      "\u001b[34m\u001b[1mwandb\u001b[0m: wandb version 0.12.11 is available!  To upgrade, please run:\n",
      "\u001b[34m\u001b[1mwandb\u001b[0m:  $ pip install wandb --upgrade\n"
     ]
    },
    {
     "data": {
      "text/html": [
       "\n",
       "                Tracking run with wandb version 0.12.1<br/>\n",
       "                Syncing run <strong style=\"color:#cdcd00\">ethereal-sweep-4</strong> to <a href=\"https://wandb.ai\" target=\"_blank\">Weights & Biases</a> <a href=\"https://docs.wandb.com/integrations/jupyter.html\" target=\"_blank\">(Documentation)</a>.<br/>\n",
       "                Project page: <a href=\"https://wandb.ai/mdowicz/pytorch-DnCNN\" target=\"_blank\">https://wandb.ai/mdowicz/pytorch-DnCNN</a><br/>\n",
       "                Sweep page: <a href=\"https://wandb.ai/mdowicz/pytorch-DnCNN/sweeps/jmemiw8x\" target=\"_blank\">https://wandb.ai/mdowicz/pytorch-DnCNN/sweeps/jmemiw8x</a><br/>\n",
       "Run page: <a href=\"https://wandb.ai/mdowicz/pytorch-DnCNN/runs/pfbzxnxx\" target=\"_blank\">https://wandb.ai/mdowicz/pytorch-DnCNN/runs/pfbzxnxx</a><br/>\n",
       "                Run data is saved locally in <code>/pscratch/sd/m/mdowicz/DESI_dn/wandb/run-20220308_130505-pfbzxnxx</code><br/><br/>\n",
       "            "
      ],
      "text/plain": [
       "<IPython.core.display.HTML object>"
      ]
     },
     "metadata": {},
     "output_type": "display_data"
    },
    {
     "data": {
      "text/html": [
       "<br/>Waiting for W&B process to finish, PID 3392<br/>Program failed with code 1.  Press ctrl-c to abort syncing."
      ],
      "text/plain": [
       "<IPython.core.display.HTML object>"
      ]
     },
     "metadata": {},
     "output_type": "display_data"
    },
    {
     "data": {
      "application/vnd.jupyter.widget-view+json": {
       "model_id": "",
       "version_major": 2,
       "version_minor": 0
      },
      "text/plain": [
       "VBox(children=(Label(value=' 0.00MB of 0.00MB uploaded (0.00MB deduped)\\r'), FloatProgress(value=1.0, max=1.0)…"
      ]
     },
     "metadata": {},
     "output_type": "display_data"
    },
    {
     "data": {
      "text/html": [
       "Find user logs for this run at: <code>/pscratch/sd/m/mdowicz/DESI_dn/wandb/run-20220308_130505-pfbzxnxx/logs/debug.log</code>"
      ],
      "text/plain": [
       "<IPython.core.display.HTML object>"
      ]
     },
     "metadata": {},
     "output_type": "display_data"
    },
    {
     "data": {
      "text/html": [
       "Find internal logs for this run at: <code>/pscratch/sd/m/mdowicz/DESI_dn/wandb/run-20220308_130505-pfbzxnxx/logs/debug-internal.log</code>"
      ],
      "text/plain": [
       "<IPython.core.display.HTML object>"
      ]
     },
     "metadata": {},
     "output_type": "display_data"
    },
    {
     "data": {
      "text/html": [
       "Synced 4 W&B file(s), 0 media file(s), 0 artifact file(s) and 0 other file(s)"
      ],
      "text/plain": [
       "<IPython.core.display.HTML object>"
      ]
     },
     "metadata": {},
     "output_type": "display_data"
    },
    {
     "data": {
      "text/html": [
       "\n",
       "                    <br/>Synced <strong style=\"color:#cdcd00\">ethereal-sweep-4</strong>: <a href=\"https://wandb.ai/mdowicz/pytorch-DnCNN/runs/pfbzxnxx\" target=\"_blank\">https://wandb.ai/mdowicz/pytorch-DnCNN/runs/pfbzxnxx</a><br/>\n",
       "                "
      ],
      "text/plain": [
       "<IPython.core.display.HTML object>"
      ]
     },
     "metadata": {},
     "output_type": "display_data"
    },
    {
     "name": "stderr",
     "output_type": "stream",
     "text": [
      "Run pfbzxnxx errored: NameError(\"name 'mode' is not defined\")\n",
      "\u001b[34m\u001b[1mwandb\u001b[0m: \u001b[32m\u001b[41mERROR\u001b[0m Run pfbzxnxx errored: NameError(\"name 'mode' is not defined\")\n",
      "\u001b[34m\u001b[1mwandb\u001b[0m: Agent Starting Run: eigjod06 with config:\n",
      "\u001b[34m\u001b[1mwandb\u001b[0m: \tbatch_size: 16\n",
      "\u001b[34m\u001b[1mwandb\u001b[0m: \tepochs: 2\n",
      "\u001b[34m\u001b[1mwandb\u001b[0m: \tfc_num_features: 128\n",
      "\u001b[34m\u001b[1mwandb\u001b[0m: \tfc_num_layers: 25\n",
      "\u001b[34m\u001b[1mwandb\u001b[0m: \tlearning_rate: 0.09004904601154037\n",
      "\u001b[34m\u001b[1mwandb\u001b[0m: \toptimizer: sgd\n",
      "Failed to detect the name of this notebook, you can set it manually with the WANDB_NOTEBOOK_NAME environment variable to enable code saving.\n",
      "\u001b[34m\u001b[1mwandb\u001b[0m: wandb version 0.12.11 is available!  To upgrade, please run:\n",
      "\u001b[34m\u001b[1mwandb\u001b[0m:  $ pip install wandb --upgrade\n"
     ]
    },
    {
     "data": {
      "text/html": [
       "\n",
       "                Tracking run with wandb version 0.12.1<br/>\n",
       "                Syncing run <strong style=\"color:#cdcd00\">glad-sweep-5</strong> to <a href=\"https://wandb.ai\" target=\"_blank\">Weights & Biases</a> <a href=\"https://docs.wandb.com/integrations/jupyter.html\" target=\"_blank\">(Documentation)</a>.<br/>\n",
       "                Project page: <a href=\"https://wandb.ai/mdowicz/pytorch-DnCNN\" target=\"_blank\">https://wandb.ai/mdowicz/pytorch-DnCNN</a><br/>\n",
       "                Sweep page: <a href=\"https://wandb.ai/mdowicz/pytorch-DnCNN/sweeps/jmemiw8x\" target=\"_blank\">https://wandb.ai/mdowicz/pytorch-DnCNN/sweeps/jmemiw8x</a><br/>\n",
       "Run page: <a href=\"https://wandb.ai/mdowicz/pytorch-DnCNN/runs/eigjod06\" target=\"_blank\">https://wandb.ai/mdowicz/pytorch-DnCNN/runs/eigjod06</a><br/>\n",
       "                Run data is saved locally in <code>/pscratch/sd/m/mdowicz/DESI_dn/wandb/run-20220308_130511-eigjod06</code><br/><br/>\n",
       "            "
      ],
      "text/plain": [
       "<IPython.core.display.HTML object>"
      ]
     },
     "metadata": {},
     "output_type": "display_data"
    },
    {
     "data": {
      "text/html": [
       "<br/>Waiting for W&B process to finish, PID 3430<br/>Program failed with code 1.  Press ctrl-c to abort syncing."
      ],
      "text/plain": [
       "<IPython.core.display.HTML object>"
      ]
     },
     "metadata": {},
     "output_type": "display_data"
    },
    {
     "data": {
      "application/vnd.jupyter.widget-view+json": {
       "model_id": "",
       "version_major": 2,
       "version_minor": 0
      },
      "text/plain": [
       "VBox(children=(Label(value=' 0.00MB of 0.00MB uploaded (0.00MB deduped)\\r'), FloatProgress(value=1.0, max=1.0)…"
      ]
     },
     "metadata": {},
     "output_type": "display_data"
    },
    {
     "data": {
      "text/html": [
       "Find user logs for this run at: <code>/pscratch/sd/m/mdowicz/DESI_dn/wandb/run-20220308_130511-eigjod06/logs/debug.log</code>"
      ],
      "text/plain": [
       "<IPython.core.display.HTML object>"
      ]
     },
     "metadata": {},
     "output_type": "display_data"
    },
    {
     "data": {
      "text/html": [
       "Find internal logs for this run at: <code>/pscratch/sd/m/mdowicz/DESI_dn/wandb/run-20220308_130511-eigjod06/logs/debug-internal.log</code>"
      ],
      "text/plain": [
       "<IPython.core.display.HTML object>"
      ]
     },
     "metadata": {},
     "output_type": "display_data"
    },
    {
     "data": {
      "text/html": [
       "Synced 4 W&B file(s), 0 media file(s), 0 artifact file(s) and 0 other file(s)"
      ],
      "text/plain": [
       "<IPython.core.display.HTML object>"
      ]
     },
     "metadata": {},
     "output_type": "display_data"
    },
    {
     "data": {
      "text/html": [
       "\n",
       "                    <br/>Synced <strong style=\"color:#cdcd00\">glad-sweep-5</strong>: <a href=\"https://wandb.ai/mdowicz/pytorch-DnCNN/runs/eigjod06\" target=\"_blank\">https://wandb.ai/mdowicz/pytorch-DnCNN/runs/eigjod06</a><br/>\n",
       "                "
      ],
      "text/plain": [
       "<IPython.core.display.HTML object>"
      ]
     },
     "metadata": {},
     "output_type": "display_data"
    },
    {
     "name": "stderr",
     "output_type": "stream",
     "text": [
      "Run eigjod06 errored: NameError(\"name 'mode' is not defined\")\n",
      "\u001b[34m\u001b[1mwandb\u001b[0m: \u001b[32m\u001b[41mERROR\u001b[0m Run eigjod06 errored: NameError(\"name 'mode' is not defined\")\n",
      "\u001b[34m\u001b[1mwandb\u001b[0m: Agent Starting Run: n7rqdiwm with config:\n",
      "\u001b[34m\u001b[1mwandb\u001b[0m: \tbatch_size: 64\n",
      "\u001b[34m\u001b[1mwandb\u001b[0m: \tepochs: 2\n",
      "\u001b[34m\u001b[1mwandb\u001b[0m: \tfc_num_features: 256\n",
      "\u001b[34m\u001b[1mwandb\u001b[0m: \tfc_num_layers: 17\n",
      "\u001b[34m\u001b[1mwandb\u001b[0m: \tlearning_rate: 0.019228073331369434\n",
      "\u001b[34m\u001b[1mwandb\u001b[0m: \toptimizer: sgd\n",
      "Failed to detect the name of this notebook, you can set it manually with the WANDB_NOTEBOOK_NAME environment variable to enable code saving.\n",
      "\u001b[34m\u001b[1mwandb\u001b[0m: wandb version 0.12.11 is available!  To upgrade, please run:\n",
      "\u001b[34m\u001b[1mwandb\u001b[0m:  $ pip install wandb --upgrade\n"
     ]
    },
    {
     "data": {
      "text/html": [
       "\n",
       "                Tracking run with wandb version 0.12.1<br/>\n",
       "                Syncing run <strong style=\"color:#cdcd00\">lunar-sweep-6</strong> to <a href=\"https://wandb.ai\" target=\"_blank\">Weights & Biases</a> <a href=\"https://docs.wandb.com/integrations/jupyter.html\" target=\"_blank\">(Documentation)</a>.<br/>\n",
       "                Project page: <a href=\"https://wandb.ai/mdowicz/pytorch-DnCNN\" target=\"_blank\">https://wandb.ai/mdowicz/pytorch-DnCNN</a><br/>\n",
       "                Sweep page: <a href=\"https://wandb.ai/mdowicz/pytorch-DnCNN/sweeps/jmemiw8x\" target=\"_blank\">https://wandb.ai/mdowicz/pytorch-DnCNN/sweeps/jmemiw8x</a><br/>\n",
       "Run page: <a href=\"https://wandb.ai/mdowicz/pytorch-DnCNN/runs/n7rqdiwm\" target=\"_blank\">https://wandb.ai/mdowicz/pytorch-DnCNN/runs/n7rqdiwm</a><br/>\n",
       "                Run data is saved locally in <code>/pscratch/sd/m/mdowicz/DESI_dn/wandb/run-20220308_130516-n7rqdiwm</code><br/><br/>\n",
       "            "
      ],
      "text/plain": [
       "<IPython.core.display.HTML object>"
      ]
     },
     "metadata": {},
     "output_type": "display_data"
    },
    {
     "data": {
      "text/html": [
       "<br/>Waiting for W&B process to finish, PID 3465<br/>Program failed with code 1.  Press ctrl-c to abort syncing."
      ],
      "text/plain": [
       "<IPython.core.display.HTML object>"
      ]
     },
     "metadata": {},
     "output_type": "display_data"
    },
    {
     "data": {
      "application/vnd.jupyter.widget-view+json": {
       "model_id": "",
       "version_major": 2,
       "version_minor": 0
      },
      "text/plain": [
       "VBox(children=(Label(value=' 0.00MB of 0.00MB uploaded (0.00MB deduped)\\r'), FloatProgress(value=1.0, max=1.0)…"
      ]
     },
     "metadata": {},
     "output_type": "display_data"
    },
    {
     "data": {
      "text/html": [
       "Find user logs for this run at: <code>/pscratch/sd/m/mdowicz/DESI_dn/wandb/run-20220308_130516-n7rqdiwm/logs/debug.log</code>"
      ],
      "text/plain": [
       "<IPython.core.display.HTML object>"
      ]
     },
     "metadata": {},
     "output_type": "display_data"
    },
    {
     "data": {
      "text/html": [
       "Find internal logs for this run at: <code>/pscratch/sd/m/mdowicz/DESI_dn/wandb/run-20220308_130516-n7rqdiwm/logs/debug-internal.log</code>"
      ],
      "text/plain": [
       "<IPython.core.display.HTML object>"
      ]
     },
     "metadata": {},
     "output_type": "display_data"
    },
    {
     "data": {
      "text/html": [
       "Synced 4 W&B file(s), 0 media file(s), 0 artifact file(s) and 0 other file(s)"
      ],
      "text/plain": [
       "<IPython.core.display.HTML object>"
      ]
     },
     "metadata": {},
     "output_type": "display_data"
    },
    {
     "data": {
      "text/html": [
       "\n",
       "                    <br/>Synced <strong style=\"color:#cdcd00\">lunar-sweep-6</strong>: <a href=\"https://wandb.ai/mdowicz/pytorch-DnCNN/runs/n7rqdiwm\" target=\"_blank\">https://wandb.ai/mdowicz/pytorch-DnCNN/runs/n7rqdiwm</a><br/>\n",
       "                "
      ],
      "text/plain": [
       "<IPython.core.display.HTML object>"
      ]
     },
     "metadata": {},
     "output_type": "display_data"
    },
    {
     "name": "stderr",
     "output_type": "stream",
     "text": [
      "Run n7rqdiwm errored: NameError(\"name 'mode' is not defined\")\n",
      "\u001b[34m\u001b[1mwandb\u001b[0m: \u001b[32m\u001b[41mERROR\u001b[0m Run n7rqdiwm errored: NameError(\"name 'mode' is not defined\")\n",
      "Detected 3 failed runs in the first 60 seconds, killing sweep.\n",
      "\u001b[34m\u001b[1mwandb\u001b[0m: \u001b[32m\u001b[41mERROR\u001b[0m Detected 3 failed runs in the first 60 seconds, killing sweep.\n",
      "\u001b[34m\u001b[1mwandb\u001b[0m: To disable this check set WANDB_AGENT_DISABLE_FLAPPING=true\n"
     ]
    }
   ],
   "source": [
    "wandb.agent(sweep_id, train, count=5)"
   ]
  },
  {
   "cell_type": "code",
   "execution_count": 17,
   "id": "238dede5-9b68-48ff-8f7c-48a831312e31",
   "metadata": {},
   "outputs": [],
   "source": [
    "# wandb.agent(sweep_id, train(train_ds=train_dataset, val_ds=test_dataset, config=sweep_config), count=5)"
   ]
  },
  {
   "cell_type": "code",
   "execution_count": null,
   "id": "36839e54-1724-4b8a-9570-75247b94d9fe",
   "metadata": {},
   "outputs": [],
   "source": []
  }
 ],
 "metadata": {
  "kernelspec": {
   "display_name": "pytorch-1.9.0",
   "language": "python",
   "name": "pytorch-1.9.0"
  },
  "language_info": {
   "codemirror_mode": {
    "name": "ipython",
    "version": 3
   },
   "file_extension": ".py",
   "mimetype": "text/x-python",
   "name": "python",
   "nbconvert_exporter": "python",
   "pygments_lexer": "ipython3",
   "version": "3.8.11"
  }
 },
 "nbformat": 4,
 "nbformat_minor": 5
}
